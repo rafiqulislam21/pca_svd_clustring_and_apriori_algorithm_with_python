{
 "cells": [
  {
   "cell_type": "markdown",
   "id": "c101c524",
   "metadata": {},
   "source": [
    "# Lab Assignment 2\n",
    "Name: **Rafiqul Islam** ; \n",
    "student id : **12123971**"
   ]
  },
  {
   "cell_type": "markdown",
   "id": "2990de1f",
   "metadata": {},
   "source": [
    "### Task -1 Dimensionality Reduction, Principal Component Analysis\n",
    "## a)"
   ]
  },
  {
   "cell_type": "code",
   "execution_count": 7,
   "id": "0f968b79",
   "metadata": {},
   "outputs": [],
   "source": [
    "import numpy as np\n",
    "import pandas as pd\n",
    "import seaborn as sb\n",
    "import sklearn\n",
    "\n",
    "import matplotlib.pyplot as plt\n",
    "from sklearn.preprocessing import StandardScaler\n",
    "from sklearn.decomposition import PCA"
   ]
  },
  {
   "cell_type": "code",
   "execution_count": 8,
   "id": "03f02492",
   "metadata": {},
   "outputs": [
    {
     "data": {
      "text/html": [
       "<div>\n",
       "<style scoped>\n",
       "    .dataframe tbody tr th:only-of-type {\n",
       "        vertical-align: middle;\n",
       "    }\n",
       "\n",
       "    .dataframe tbody tr th {\n",
       "        vertical-align: top;\n",
       "    }\n",
       "\n",
       "    .dataframe thead th {\n",
       "        text-align: right;\n",
       "    }\n",
       "</style>\n",
       "<table border=\"1\" class=\"dataframe\">\n",
       "  <thead>\n",
       "    <tr style=\"text-align: right;\">\n",
       "      <th></th>\n",
       "      <th>Area</th>\n",
       "      <th>Perimeter</th>\n",
       "      <th>Compactness</th>\n",
       "      <th>Kernel.Length</th>\n",
       "      <th>Kernel.Width</th>\n",
       "      <th>Asymmetry.Coeff</th>\n",
       "      <th>Kernel.Groove</th>\n",
       "      <th>Type</th>\n",
       "    </tr>\n",
       "  </thead>\n",
       "  <tbody>\n",
       "    <tr>\n",
       "      <th>0</th>\n",
       "      <td>15.26</td>\n",
       "      <td>14.84</td>\n",
       "      <td>0.8710</td>\n",
       "      <td>5.763</td>\n",
       "      <td>3.312</td>\n",
       "      <td>2.221</td>\n",
       "      <td>5.220</td>\n",
       "      <td>1</td>\n",
       "    </tr>\n",
       "    <tr>\n",
       "      <th>1</th>\n",
       "      <td>14.88</td>\n",
       "      <td>14.57</td>\n",
       "      <td>0.8811</td>\n",
       "      <td>5.554</td>\n",
       "      <td>3.333</td>\n",
       "      <td>1.018</td>\n",
       "      <td>4.956</td>\n",
       "      <td>1</td>\n",
       "    </tr>\n",
       "    <tr>\n",
       "      <th>2</th>\n",
       "      <td>14.29</td>\n",
       "      <td>14.09</td>\n",
       "      <td>0.9050</td>\n",
       "      <td>5.291</td>\n",
       "      <td>3.337</td>\n",
       "      <td>2.699</td>\n",
       "      <td>4.825</td>\n",
       "      <td>1</td>\n",
       "    </tr>\n",
       "    <tr>\n",
       "      <th>3</th>\n",
       "      <td>13.84</td>\n",
       "      <td>13.94</td>\n",
       "      <td>0.8955</td>\n",
       "      <td>5.324</td>\n",
       "      <td>3.379</td>\n",
       "      <td>2.259</td>\n",
       "      <td>4.805</td>\n",
       "      <td>1</td>\n",
       "    </tr>\n",
       "    <tr>\n",
       "      <th>4</th>\n",
       "      <td>16.14</td>\n",
       "      <td>14.99</td>\n",
       "      <td>0.9034</td>\n",
       "      <td>5.658</td>\n",
       "      <td>3.562</td>\n",
       "      <td>1.355</td>\n",
       "      <td>5.175</td>\n",
       "      <td>1</td>\n",
       "    </tr>\n",
       "  </tbody>\n",
       "</table>\n",
       "</div>"
      ],
      "text/plain": [
       "    Area  Perimeter  Compactness  Kernel.Length  Kernel.Width  \\\n",
       "0  15.26      14.84       0.8710          5.763         3.312   \n",
       "1  14.88      14.57       0.8811          5.554         3.333   \n",
       "2  14.29      14.09       0.9050          5.291         3.337   \n",
       "3  13.84      13.94       0.8955          5.324         3.379   \n",
       "4  16.14      14.99       0.9034          5.658         3.562   \n",
       "\n",
       "   Asymmetry.Coeff  Kernel.Groove  Type  \n",
       "0            2.221          5.220     1  \n",
       "1            1.018          4.956     1  \n",
       "2            2.699          4.825     1  \n",
       "3            2.259          4.805     1  \n",
       "4            1.355          5.175     1  "
      ]
     },
     "execution_count": 8,
     "metadata": {},
     "output_type": "execute_result"
    }
   ],
   "source": [
    "#read raw data form csv file\n",
    "df = pd.read_csv (r'H:\\University Of Vienna\\Sem_1\\FDA\\Unsupervised\\Assignments\\A2\\Lab assignment 2/seeds.csv')\n",
    "x = df.copy()\n",
    "y = df.columns.values.tolist()\n",
    "x.head()\n",
    "# y"
   ]
  },
  {
   "cell_type": "code",
   "execution_count": 9,
   "id": "917765bd",
   "metadata": {},
   "outputs": [
    {
     "data": {
      "text/plain": [
       "array([[ 0.11716431,  0.18679667,  0.0081443 , ..., -1.00737062,\n",
       "        -0.40826475, -1.22634124],\n",
       "       [-0.01330197, -0.01975993,  0.44234139, ..., -1.82718718,\n",
       "        -0.9454197 , -1.22634124],\n",
       "       [-0.21586804, -0.38697165,  1.46979786, ..., -0.68162472,\n",
       "        -1.21196249, -1.22634124],\n",
       "       ...,\n",
       "       [-0.59010028, -0.71593216,  0.75186803, ...,  3.14554887,\n",
       "        -0.74195192,  1.23872853],\n",
       "       [-1.05703224, -1.06019315, -0.80436312, ..., -0.06897709,\n",
       "        -0.76636805,  1.23872853],\n",
       "       [-0.89909937, -0.96073998, -0.10362921, ...,  1.32055406,\n",
       "        -0.72770917,  1.23872853]])"
      ]
     },
     "execution_count": 9,
     "metadata": {},
     "output_type": "execute_result"
    }
   ],
   "source": [
    "scaler = StandardScaler()\n",
    "# scaler.fit(df)\n",
    "# scale data using standard scaler to use in PCA\n",
    "scaled_data = scaler.fit_transform(x)\n",
    "scaled_data\n",
    "# scaled_data.shape"
   ]
  },
  {
   "cell_type": "code",
   "execution_count": 10,
   "id": "653f4fd7",
   "metadata": {},
   "outputs": [
    {
     "data": {
      "text/html": [
       "<div>\n",
       "<style scoped>\n",
       "    .dataframe tbody tr th:only-of-type {\n",
       "        vertical-align: middle;\n",
       "    }\n",
       "\n",
       "    .dataframe tbody tr th {\n",
       "        vertical-align: top;\n",
       "    }\n",
       "\n",
       "    .dataframe thead th {\n",
       "        text-align: right;\n",
       "    }\n",
       "</style>\n",
       "<table border=\"1\" class=\"dataframe\">\n",
       "  <thead>\n",
       "    <tr style=\"text-align: right;\">\n",
       "      <th></th>\n",
       "      <th>PC1</th>\n",
       "      <th>PC2</th>\n",
       "      <th>PC3</th>\n",
       "    </tr>\n",
       "  </thead>\n",
       "  <tbody>\n",
       "    <tr>\n",
       "      <th>0</th>\n",
       "      <td>0.519516</td>\n",
       "      <td>1.368060</td>\n",
       "      <td>-0.628734</td>\n",
       "    </tr>\n",
       "    <tr>\n",
       "      <th>1</th>\n",
       "      <td>0.244365</td>\n",
       "      <td>2.313525</td>\n",
       "      <td>-0.641916</td>\n",
       "    </tr>\n",
       "    <tr>\n",
       "      <th>2</th>\n",
       "      <td>-0.200035</td>\n",
       "      <td>2.330453</td>\n",
       "      <td>0.984240</td>\n",
       "    </tr>\n",
       "    <tr>\n",
       "      <th>3</th>\n",
       "      <td>-0.330086</td>\n",
       "      <td>2.378698</td>\n",
       "      <td>0.543494</td>\n",
       "    </tr>\n",
       "    <tr>\n",
       "      <th>4</th>\n",
       "      <td>1.335879</td>\n",
       "      <td>2.262522</td>\n",
       "      <td>0.101649</td>\n",
       "    </tr>\n",
       "  </tbody>\n",
       "</table>\n",
       "</div>"
      ],
      "text/plain": [
       "        PC1       PC2       PC3\n",
       "0  0.519516  1.368060 -0.628734\n",
       "1  0.244365  2.313525 -0.641916\n",
       "2 -0.200035  2.330453  0.984240\n",
       "3 -0.330086  2.378698  0.543494\n",
       "4  1.335879  2.262522  0.101649"
      ]
     },
     "execution_count": 10,
     "metadata": {},
     "output_type": "execute_result"
    }
   ],
   "source": [
    "pca_data = PCA(n_components=3)\n",
    "x_pca = pca_data.fit_transform(scaled_data)\n",
    "# x_pca\n",
    "# x_pca.shape\n",
    "df_xpca = pd.DataFrame(data = x_pca, columns=['PC1', 'PC2', 'PC3'])\n",
    "df_xpca.head()"
   ]
  },
  {
   "cell_type": "code",
   "execution_count": 12,
   "id": "e5928985",
   "metadata": {},
   "outputs": [
    {
     "data": {
      "image/png": "[encoded data removed]",
      "text/plain": [
       "<Figure size 432x288 with 1 Axes>"
      ]
     },
     "metadata": {
      "needs_background": "light"
     },
     "output_type": "display_data"
    }
   ],
   "source": [
    "per_var = np.round(pca_data.explained_variance_ratio_ * 100, decimals=1)\n",
    "# pca_data.explained_variance_ratio_\n",
    "label = ['PC' + str(x) for x in range(1, len(per_var)+1)]\n",
    "plt.bar(x=range(1, len(per_var)+1), height=per_var, tick_label = label)\n",
    "plt.ylabel('percentage of explained variance')\n",
    "plt.xlabel('principal components')\n",
    "plt.title('scre plot')\n",
    "plt.show()"
   ]
  },
  {
   "cell_type": "code",
   "execution_count": 16,
   "id": "c1443652",
   "metadata": {},
   "outputs": [
    {
     "data": {
      "text/html": [
       "<div>\n",
       "<style scoped>\n",
       "    .dataframe tbody tr th:only-of-type {\n",
       "        vertical-align: middle;\n",
       "    }\n",
       "\n",
       "    .dataframe tbody tr th {\n",
       "        vertical-align: top;\n",
       "    }\n",
       "\n",
       "    .dataframe thead th {\n",
       "        text-align: right;\n",
       "    }\n",
       "</style>\n",
       "<table border=\"1\" class=\"dataframe\">\n",
       "  <thead>\n",
       "    <tr style=\"text-align: right;\">\n",
       "      <th></th>\n",
       "      <th>Area</th>\n",
       "      <th>Perimeter</th>\n",
       "      <th>Compactness</th>\n",
       "      <th>Kernel.Length</th>\n",
       "      <th>Kernel.Width</th>\n",
       "      <th>Asymmetry.Coeff</th>\n",
       "      <th>Kernel.Groove</th>\n",
       "      <th>Type</th>\n",
       "    </tr>\n",
       "  </thead>\n",
       "  <tbody>\n",
       "    <tr>\n",
       "      <th>0</th>\n",
       "      <td>0.341256</td>\n",
       "      <td>0.244171</td>\n",
       "      <td>0.000189</td>\n",
       "      <td>0.119849</td>\n",
       "      <td>0.046467</td>\n",
       "      <td>-1.478217</td>\n",
       "      <td>-0.200653</td>\n",
       "      <td>-0.994975</td>\n",
       "    </tr>\n",
       "    <tr>\n",
       "      <th>1</th>\n",
       "      <td>-0.038744</td>\n",
       "      <td>-0.025829</td>\n",
       "      <td>0.010289</td>\n",
       "      <td>-0.089151</td>\n",
       "      <td>0.067467</td>\n",
       "      <td>-2.681217</td>\n",
       "      <td>-0.464653</td>\n",
       "      <td>-0.994975</td>\n",
       "    </tr>\n",
       "    <tr>\n",
       "      <th>2</th>\n",
       "      <td>-0.628744</td>\n",
       "      <td>-0.505829</td>\n",
       "      <td>0.034189</td>\n",
       "      <td>-0.352151</td>\n",
       "      <td>0.071467</td>\n",
       "      <td>-1.000217</td>\n",
       "      <td>-0.595653</td>\n",
       "      <td>-0.994975</td>\n",
       "    </tr>\n",
       "    <tr>\n",
       "      <th>3</th>\n",
       "      <td>-1.078744</td>\n",
       "      <td>-0.655829</td>\n",
       "      <td>0.024689</td>\n",
       "      <td>-0.319151</td>\n",
       "      <td>0.113467</td>\n",
       "      <td>-1.440217</td>\n",
       "      <td>-0.615653</td>\n",
       "      <td>-0.994975</td>\n",
       "    </tr>\n",
       "    <tr>\n",
       "      <th>4</th>\n",
       "      <td>1.221256</td>\n",
       "      <td>0.394171</td>\n",
       "      <td>0.032589</td>\n",
       "      <td>0.014849</td>\n",
       "      <td>0.296467</td>\n",
       "      <td>-2.344217</td>\n",
       "      <td>-0.245653</td>\n",
       "      <td>-0.994975</td>\n",
       "    </tr>\n",
       "  </tbody>\n",
       "</table>\n",
       "</div>"
      ],
      "text/plain": [
       "       Area  Perimeter  Compactness  Kernel.Length  Kernel.Width  \\\n",
       "0  0.341256   0.244171     0.000189       0.119849      0.046467   \n",
       "1 -0.038744  -0.025829     0.010289      -0.089151      0.067467   \n",
       "2 -0.628744  -0.505829     0.034189      -0.352151      0.071467   \n",
       "3 -1.078744  -0.655829     0.024689      -0.319151      0.113467   \n",
       "4  1.221256   0.394171     0.032589       0.014849      0.296467   \n",
       "\n",
       "   Asymmetry.Coeff  Kernel.Groove      Type  \n",
       "0        -1.478217      -0.200653 -0.994975  \n",
       "1        -2.681217      -0.464653 -0.994975  \n",
       "2        -1.000217      -0.595653 -0.994975  \n",
       "3        -1.440217      -0.615653 -0.994975  \n",
       "4        -2.344217      -0.245653 -0.994975  "
      ]
     },
     "execution_count": 16,
     "metadata": {},
     "output_type": "execute_result"
    }
   ],
   "source": [
    "#SVD part------------------------------\n",
    "from numpy.linalg import svd \n",
    "# df.shape[0]\n",
    "B1 = df.copy() \n",
    "B1 -= np.mean(df, axis=0) \n",
    "B1.head()"
   ]
  },
  {
   "cell_type": "code",
   "execution_count": 31,
   "id": "a645983e",
   "metadata": {},
   "outputs": [
    {
     "ename": "NameError",
     "evalue": "name 'svd' is not defined",
     "output_type": "error",
     "traceback": [
      "\u001b[1;31m---------------------------------------------------------------------------\u001b[0m",
      "\u001b[1;31mNameError\u001b[0m                                 Traceback (most recent call last)",
      "\u001b[1;32m<ipython-input-31-a97d439aabe3>\u001b[0m in \u001b[0;36m<module>\u001b[1;34m\u001b[0m\n\u001b[1;32m----> 1\u001b[1;33m U, S, Vt = svd(df, full_matrices=False,\n\u001b[0m\u001b[0;32m      2\u001b[0m                 compute_uv=True)\n\u001b[0;32m      3\u001b[0m \u001b[1;31m# Data matrix X, X doesn't need to be 0-centered\u001b[0m\u001b[1;33m\u001b[0m\u001b[1;33m\u001b[0m\u001b[1;33m\u001b[0m\u001b[0m\n\u001b[0;32m      4\u001b[0m \u001b[0mn\u001b[0m\u001b[1;33m,\u001b[0m \u001b[0mm\u001b[0m \u001b[1;33m=\u001b[0m \u001b[0mdf\u001b[0m\u001b[1;33m.\u001b[0m\u001b[0mshape\u001b[0m\u001b[1;33m\u001b[0m\u001b[1;33m\u001b[0m\u001b[0m\n\u001b[0;32m      5\u001b[0m \u001b[1;33m\u001b[0m\u001b[0m\n",
      "\u001b[1;31mNameError\u001b[0m: name 'svd' is not defined"
     ]
    }
   ],
   "source": [
    "U, S, Vt = svd(df, full_matrices=False,\n",
    "                compute_uv=True)\n",
    "# Data matrix X, X doesn't need to be 0-centered\n",
    "n, m = df.shape\n",
    "    \n",
    "print(\"U:\")\n",
    "print(U)\n",
    "print(\"S used for building Sigma:\")\n",
    "print(S)\n",
    "\n",
    "# Sigma = np.zeros((n, n), dtype=float)\n",
    "# Sigma[:8, :8] = np.diag(S)\n",
    "print(\"Sigma:\")\n",
    "print(S)\n",
    "print(\"V already transposed:\")\n",
    "print(Vt)\n",
    "# print(\"CHECK FOR SVD:\")\n",
    "# print(\"U * Sigma * Vt (=B1)\")\n",
    "# print(np.dot(U, np.dot(Sigma, Vt)))\n",
    "\n",
    "# Transform X with SVD components\n",
    "X_svd = np.dot(U, np.diag(S))\n",
    "# X_svd"
   ]
  },
  {
   "cell_type": "markdown",
   "id": "36718d6a",
   "metadata": {},
   "source": [
    "## b)"
   ]
  },
  {
   "cell_type": "code",
   "execution_count": 80,
   "id": "1d6bdcac",
   "metadata": {},
   "outputs": [
    {
     "data": {
      "image/png": "[encoded data removed]",
      "text/plain": [
       "<Figure size 648x360 with 1 Axes>"
      ]
     },
     "metadata": {
      "needs_background": "light"
     },
     "output_type": "display_data"
    }
   ],
   "source": [
    "types = df.Type\n",
    "plt.figure(figsize = (9,5))\n",
    "points = plt.scatter(x_pca[:,0], x_pca[:,1], c = types,  alpha=0.9)\n",
    "plt.xlabel('PC1')\n",
    "plt.ylabel('PC2')\n",
    "plt.title(\"Principal Component Analysis (PCA) of Wheat Seeds dataset\")\n",
    "plt.legend(*points.legend_elements(), title=\"Types\")\n",
    "plt.show()\n"
   ]
  },
  {
   "cell_type": "markdown",
   "id": "9f314ce8",
   "metadata": {},
   "source": [
    "## c)"
   ]
  },
  {
   "cell_type": "markdown",
   "id": "115e0905",
   "metadata": {},
   "source": [
    "### The importance of PCA in the “curse of dimensionality” problem:\n",
    "'curse of dimensionality' is a major problem in data mining in large data sets with many potential predictor variables. This expression describe the increasing difficulty in training a model when more predictor variables are added to it. In other words, the error increases with the increase in the number of features. Furthermore, because of high dimentation the algorithms are harder to design.\n",
    "\n",
    "Principal component analysis (PCA) can solve this problem. PCA is a technique for reducing the large dimensionality of datasets to a smaller one that still contain the most important information from the large set. So without lossing much information we get the lower dimensional data, lower dimensional data is make the computarions easy and faster."
   ]
  },
  {
   "cell_type": "code",
   "execution_count": null,
   "id": "dce42f7a",
   "metadata": {},
   "outputs": [],
   "source": []
  },
  {
   "cell_type": "markdown",
   "id": "0f2419eb",
   "metadata": {},
   "source": [
    "### Task -2 Clustering\n",
    "## a)"
   ]
  },
  {
   "cell_type": "code",
   "execution_count": null,
   "id": "b4bdb9e1",
   "metadata": {},
   "outputs": [],
   "source": []
  },
  {
   "cell_type": "markdown",
   "id": "c26f50c6",
   "metadata": {},
   "source": [
    "### Task -3 Apriori Algorithm for Recommender Systems\n",
    "## a)"
   ]
  },
  {
   "cell_type": "code",
   "execution_count": 82,
   "id": "7cf8a6eb",
   "metadata": {},
   "outputs": [],
   "source": [
    "import numpy as np\n",
    "import pandas as pd"
   ]
  },
  {
   "cell_type": "code",
   "execution_count": 89,
   "id": "e89eb840",
   "metadata": {},
   "outputs": [
    {
     "data": {
      "text/html": [
       "<div>\n",
       "<style scoped>\n",
       "    .dataframe tbody tr th:only-of-type {\n",
       "        vertical-align: middle;\n",
       "    }\n",
       "\n",
       "    .dataframe tbody tr th {\n",
       "        vertical-align: top;\n",
       "    }\n",
       "\n",
       "    .dataframe thead th {\n",
       "        text-align: right;\n",
       "    }\n",
       "</style>\n",
       "<table border=\"1\" class=\"dataframe\">\n",
       "  <thead>\n",
       "    <tr style=\"text-align: right;\">\n",
       "      <th></th>\n",
       "      <th>Incredibles 2;Avengers: Infinity War - Part I;Avengers: Infinity War - Part II;Deadpool 2</th>\n",
       "      <th>Unnamed: 1</th>\n",
       "      <th>Unnamed: 2</th>\n",
       "      <th>Unnamed: 3</th>\n",
       "      <th>Unnamed: 4</th>\n",
       "      <th>Unnamed: 5</th>\n",
       "    </tr>\n",
       "  </thead>\n",
       "  <tbody>\n",
       "    <tr>\n",
       "      <th>0</th>\n",
       "      <td>Annihilation;John Wick: Chapter 3 – Parabellum...</td>\n",
       "      <td>NaN</td>\n",
       "      <td>NaN</td>\n",
       "      <td>NaN</td>\n",
       "      <td>NaN</td>\n",
       "      <td>NaN</td>\n",
       "    </tr>\n",
       "    <tr>\n",
       "      <th>1</th>\n",
       "      <td>Avengers: Infinity War - Part I;Bohemian Rhapsody</td>\n",
       "      <td>NaN</td>\n",
       "      <td>NaN</td>\n",
       "      <td>NaN</td>\n",
       "      <td>NaN</td>\n",
       "      <td>NaN</td>\n",
       "    </tr>\n",
       "    <tr>\n",
       "      <th>2</th>\n",
       "      <td>Green Book;Incredibles 2;Isle of Dogs</td>\n",
       "      <td>NaN</td>\n",
       "      <td>NaN</td>\n",
       "      <td>NaN</td>\n",
       "      <td>NaN</td>\n",
       "      <td>NaN</td>\n",
       "    </tr>\n",
       "    <tr>\n",
       "      <th>3</th>\n",
       "      <td>Bohemian Rhapsody;Captain Marvel;Avengers: Inf...</td>\n",
       "      <td>NaN</td>\n",
       "      <td>NaN</td>\n",
       "      <td>NaN</td>\n",
       "      <td>NaN</td>\n",
       "      <td>NaN</td>\n",
       "    </tr>\n",
       "    <tr>\n",
       "      <th>4</th>\n",
       "      <td>Deadpool 2;Incredibles 2;Avengers: Infinity Wa...</td>\n",
       "      <td>NaN</td>\n",
       "      <td>NaN</td>\n",
       "      <td>NaN</td>\n",
       "      <td>NaN</td>\n",
       "      <td>NaN</td>\n",
       "    </tr>\n",
       "  </tbody>\n",
       "</table>\n",
       "</div>"
      ],
      "text/plain": [
       "  Incredibles 2;Avengers: Infinity War - Part I;Avengers: Infinity War - Part II;Deadpool 2  \\\n",
       "0  Annihilation;John Wick: Chapter 3 – Parabellum...                                          \n",
       "1  Avengers: Infinity War - Part I;Bohemian Rhapsody                                          \n",
       "2              Green Book;Incredibles 2;Isle of Dogs                                          \n",
       "3  Bohemian Rhapsody;Captain Marvel;Avengers: Inf...                                          \n",
       "4  Deadpool 2;Incredibles 2;Avengers: Infinity Wa...                                          \n",
       "\n",
       "  Unnamed: 1 Unnamed: 2 Unnamed: 3 Unnamed: 4 Unnamed: 5  \n",
       "0        NaN        NaN        NaN        NaN        NaN  \n",
       "1        NaN        NaN        NaN        NaN        NaN  \n",
       "2        NaN        NaN        NaN        NaN        NaN  \n",
       "3        NaN        NaN        NaN        NaN        NaN  \n",
       "4        NaN        NaN        NaN        NaN        NaN  "
      ]
     },
     "execution_count": 89,
     "metadata": {},
     "output_type": "execute_result"
    }
   ],
   "source": [
    "movie_df = pd.read_fwf(r'H:\\University Of Vienna\\Sem_1\\FDA\\Unsupervised\\Assignments\\A2\\Lab assignment 2/movies.txt')\n",
    "movie_df.head()"
   ]
  },
  {
   "cell_type": "code",
   "execution_count": null,
   "id": "bb54071a",
   "metadata": {},
   "outputs": [],
   "source": []
  }
 ],
 "metadata": {
  "kernelspec": {
   "display_name": "Python 3",
   "language": "python",
   "name": "python3"
  },
  "language_info": {
   "codemirror_mode": {
    "name": "ipython",
    "version": 3
   },
   "file_extension": ".py",
   "mimetype": "text/x-python",
   "name": "python",
   "nbconvert_exporter": "python",
   "pygments_lexer": "ipython3",
   "version": "3.8.8"
  }
 },
 "nbformat": 4,
 "nbformat_minor": 5
}
