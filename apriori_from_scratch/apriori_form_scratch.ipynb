{
 "cells": [
  {
   "cell_type": "code",
   "execution_count": 17,
   "id": "61aff48f",
   "metadata": {},
   "outputs": [],
   "source": [
    "import pandas as pd\n",
    "import itertools"
   ]
  },
  {
   "cell_type": "code",
   "execution_count": 24,
   "id": "149815f8",
   "metadata": {},
   "outputs": [
    {
     "name": "stdout",
     "output_type": "stream",
     "text": [
      "[['MILK', 'BREAD', 'BISCUIT', 'nan'], ['BREAD', 'MILK', 'BISCUIT', 'CORNFLAKES'], ['BREAD', 'TEA', 'BOURNVITA', 'nan'], ['JAM', 'MAGGI', 'BREAD', 'MILK'], ['MAGGI', 'TEA', 'BISCUIT', 'nan'], ['BREAD', 'TEA', 'BOURNVITA', 'nan'], ['MAGGI', 'TEA', 'CORNFLAKES', 'nan'], ['MAGGI', 'BREAD', 'TEA', 'BISCUIT'], ['JAM', 'MAGGI', 'BREAD', 'TEA'], ['BREAD', 'MILK', 'nan', 'nan'], ['COFFEE', 'COCK', 'BISCUIT', 'CORNFLAKES'], ['COFFEE', 'COCK', 'BISCUIT', 'CORNFLAKES'], ['COFFEE', 'SUGER', 'BOURNVITA', 'nan'], ['BREAD', 'COFFEE', 'COCK', 'nan'], ['BREAD', 'SUGER', 'BISCUIT', 'nan'], ['COFFEE', 'SUGER', 'CORNFLAKES', 'nan'], ['BREAD', 'SUGER', 'BOURNVITA', 'nan'], ['BREAD', 'COFFEE', 'SUGER', 'nan'], ['BREAD', 'COFFEE', 'SUGER', 'nan'], ['TEA', 'MILK', 'COFFEE', 'CORNFLAKES']]\n"
     ]
    },
    {
     "data": {
      "text/plain": [
       "['BISCUIT',\n",
       " 'BISCUIT',\n",
       " 'BISCUIT',\n",
       " 'BISCUIT',\n",
       " 'BISCUIT',\n",
       " 'BISCUIT',\n",
       " 'BISCUIT',\n",
       " 'BOURNVITA',\n",
       " 'BOURNVITA',\n",
       " 'BOURNVITA',\n",
       " 'BOURNVITA',\n",
       " 'BREAD',\n",
       " 'BREAD',\n",
       " 'BREAD',\n",
       " 'BREAD',\n",
       " 'BREAD',\n",
       " 'BREAD',\n",
       " 'BREAD',\n",
       " 'BREAD',\n",
       " 'BREAD',\n",
       " 'BREAD',\n",
       " 'BREAD',\n",
       " 'BREAD',\n",
       " 'BREAD',\n",
       " 'COCK',\n",
       " 'COCK',\n",
       " 'COCK',\n",
       " 'COFFEE',\n",
       " 'COFFEE',\n",
       " 'COFFEE',\n",
       " 'COFFEE',\n",
       " 'COFFEE',\n",
       " 'COFFEE',\n",
       " 'COFFEE',\n",
       " 'COFFEE',\n",
       " 'CORNFLAKES',\n",
       " 'CORNFLAKES',\n",
       " 'CORNFLAKES',\n",
       " 'CORNFLAKES',\n",
       " 'CORNFLAKES',\n",
       " 'CORNFLAKES',\n",
       " 'JAM',\n",
       " 'JAM',\n",
       " 'MAGGI',\n",
       " 'MAGGI',\n",
       " 'MAGGI',\n",
       " 'MAGGI',\n",
       " 'MAGGI',\n",
       " 'MILK',\n",
       " 'MILK',\n",
       " 'MILK',\n",
       " 'MILK',\n",
       " 'MILK',\n",
       " 'SUGER',\n",
       " 'SUGER',\n",
       " 'SUGER',\n",
       " 'SUGER',\n",
       " 'SUGER',\n",
       " 'SUGER',\n",
       " 'TEA',\n",
       " 'TEA',\n",
       " 'TEA',\n",
       " 'TEA',\n",
       " 'TEA',\n",
       " 'TEA',\n",
       " 'TEA']"
      ]
     },
     "execution_count": 24,
     "metadata": {},
     "output_type": "execute_result"
    }
   ],
   "source": [
    "#initilize data form file=====\n",
    "data = pd.read_csv('movies.csv')\n",
    "records = []\n",
    "for i in range(0, 20):\n",
    "    records.append([str(data.values[i,j]) for j in range(0, 4)])\n",
    "items = sorted([item for sublist in records for item in sublist if item != 'nan'])\n",
    "\n",
    "print(records)\n",
    "items"
   ]
  },
  {
   "cell_type": "code",
   "execution_count": 19,
   "id": "6c0797a9",
   "metadata": {},
   "outputs": [
    {
     "name": "stdout",
     "output_type": "stream",
     "text": [
      "{'BISCUIT': 7, 'BOURNVITA': 4, 'BREAD': 13, 'COCK': 3, 'COFFEE': 8, 'CORNFLAKES': 6, 'JAM': 2, 'MAGGI': 5, 'MILK': 5, 'SUGER': 6, 'TEA': 7}\n"
     ]
    },
    {
     "data": {
      "text/plain": [
       "{'BISCUIT': 7,\n",
       " 'BOURNVITA': 4,\n",
       " 'BREAD': 13,\n",
       " 'COCK': 3,\n",
       " 'COFFEE': 8,\n",
       " 'CORNFLAKES': 6,\n",
       " 'JAM': 2,\n",
       " 'MAGGI': 5,\n",
       " 'MILK': 5,\n",
       " 'SUGER': 6,\n",
       " 'TEA': 7}"
      ]
     },
     "execution_count": 19,
     "metadata": {},
     "output_type": "execute_result"
    }
   ],
   "source": [
    "minimum_support_count = 2\n",
    "#step-1\n",
    "def sup_count(items, minimum_support_count):\n",
    "    all_items_count = {i:items.count(i) for i in items}\n",
    "    print(all_items_count)\n",
    "    frequent_items = {}\n",
    "    for key, value in all_items_count.items():\n",
    "        if value >= minimum_support_count:\n",
    "            frequent_items[key] = value \n",
    "    \n",
    "    return all_items_count, frequent_items\n",
    "\n",
    "all_items_count, frequent_items = sup_count(items, minimum_support_count)\n",
    "\n",
    "# all_items_count\n",
    "frequent_items\n",
    "#write into txt file later------"
   ]
  },
  {
   "cell_type": "code",
   "execution_count": 26,
   "id": "d0237d77",
   "metadata": {},
   "outputs": [],
   "source": [
    "#step-3\n",
    "def sublist(lst1, lst2):\n",
    "    return set(lst1) <= set(lst2)\n",
    "\n",
    "def check_subset_frequency(itemset, l, key_item_length):\n",
    "    if key_item_length>1:    \n",
    "        subsets = list(itertools.combinations(itemset, key_item_length))\n",
    "    else:\n",
    "        subsets = itemset\n",
    "    for iter1 in subsets:\n",
    "        if not iter1 in l:\n",
    "            return False\n",
    "    return True\n",
    "\n",
    "\n",
    "def run_apriori(l2, records, minimum_support_count, key_item_length):\n",
    "    l2 = list(l2.keys())\n",
    "    if key_item_length > 2:\n",
    "        l2 = sorted(l2)\n",
    "        \n",
    "    L2 = []\n",
    "    if key_item_length > 2:\n",
    "        L2 = sorted(list(set([item for t in l2 for item in t])))\n",
    "        L2 = list(itertools.combinations(L2, key_item_length))\n",
    "    else:\n",
    "        L2 = list(itertools.combinations(l2, key_item_length))\n",
    "    \n",
    "    c3 = {}\n",
    "    l3 = {}\n",
    "    for iter1 in L2:\n",
    "        count = 0\n",
    "        for iter2 in records:\n",
    "            if sublist(iter1, iter2):\n",
    "                count+=1\n",
    "        c3[iter1] = count\n",
    "    for key, value in c3.items():\n",
    "        if value >= minimum_support_count:\n",
    "            if check_subset_frequency(key, l2, key_item_length-1):\n",
    "                l3[key] = value \n",
    "        \n",
    "    return c3, l3\n",
    "# c3, l3 = stage_3(frequent_items, records, minimum_support_count, 2)\n",
    "# c3\n",
    "# l3"
   ]
  },
  {
   "cell_type": "code",
   "execution_count": 27,
   "id": "1368e810",
   "metadata": {},
   "outputs": [
    {
     "name": "stdout",
     "output_type": "stream",
     "text": [
      "[('BISCUIT', 'BOURNVITA'), ('BISCUIT', 'BREAD'), ('BISCUIT', 'COCK'), ('BISCUIT', 'COFFEE'), ('BISCUIT', 'CORNFLAKES'), ('BISCUIT', 'JAM'), ('BISCUIT', 'MAGGI'), ('BISCUIT', 'MILK'), ('BISCUIT', 'SUGER'), ('BISCUIT', 'TEA'), ('BOURNVITA', 'BREAD'), ('BOURNVITA', 'COCK'), ('BOURNVITA', 'COFFEE'), ('BOURNVITA', 'CORNFLAKES'), ('BOURNVITA', 'JAM'), ('BOURNVITA', 'MAGGI'), ('BOURNVITA', 'MILK'), ('BOURNVITA', 'SUGER'), ('BOURNVITA', 'TEA'), ('BREAD', 'COCK'), ('BREAD', 'COFFEE'), ('BREAD', 'CORNFLAKES'), ('BREAD', 'JAM'), ('BREAD', 'MAGGI'), ('BREAD', 'MILK'), ('BREAD', 'SUGER'), ('BREAD', 'TEA'), ('COCK', 'COFFEE'), ('COCK', 'CORNFLAKES'), ('COCK', 'JAM'), ('COCK', 'MAGGI'), ('COCK', 'MILK'), ('COCK', 'SUGER'), ('COCK', 'TEA'), ('COFFEE', 'CORNFLAKES'), ('COFFEE', 'JAM'), ('COFFEE', 'MAGGI'), ('COFFEE', 'MILK'), ('COFFEE', 'SUGER'), ('COFFEE', 'TEA'), ('CORNFLAKES', 'JAM'), ('CORNFLAKES', 'MAGGI'), ('CORNFLAKES', 'MILK'), ('CORNFLAKES', 'SUGER'), ('CORNFLAKES', 'TEA'), ('JAM', 'MAGGI'), ('JAM', 'MILK'), ('JAM', 'SUGER'), ('JAM', 'TEA'), ('MAGGI', 'MILK'), ('MAGGI', 'SUGER'), ('MAGGI', 'TEA'), ('MILK', 'SUGER'), ('MILK', 'TEA'), ('SUGER', 'TEA')]\n",
      "[('BISCUIT', 'BOURNVITA', 'BREAD'), ('BISCUIT', 'BOURNVITA', 'COCK'), ('BISCUIT', 'BOURNVITA', 'COFFEE'), ('BISCUIT', 'BOURNVITA', 'CORNFLAKES'), ('BISCUIT', 'BOURNVITA', 'JAM'), ('BISCUIT', 'BOURNVITA', 'MAGGI'), ('BISCUIT', 'BOURNVITA', 'MILK'), ('BISCUIT', 'BOURNVITA', 'SUGER'), ('BISCUIT', 'BOURNVITA', 'TEA'), ('BISCUIT', 'BREAD', 'COCK'), ('BISCUIT', 'BREAD', 'COFFEE'), ('BISCUIT', 'BREAD', 'CORNFLAKES'), ('BISCUIT', 'BREAD', 'JAM'), ('BISCUIT', 'BREAD', 'MAGGI'), ('BISCUIT', 'BREAD', 'MILK'), ('BISCUIT', 'BREAD', 'SUGER'), ('BISCUIT', 'BREAD', 'TEA'), ('BISCUIT', 'COCK', 'COFFEE'), ('BISCUIT', 'COCK', 'CORNFLAKES'), ('BISCUIT', 'COCK', 'JAM'), ('BISCUIT', 'COCK', 'MAGGI'), ('BISCUIT', 'COCK', 'MILK'), ('BISCUIT', 'COCK', 'SUGER'), ('BISCUIT', 'COCK', 'TEA'), ('BISCUIT', 'COFFEE', 'CORNFLAKES'), ('BISCUIT', 'COFFEE', 'JAM'), ('BISCUIT', 'COFFEE', 'MAGGI'), ('BISCUIT', 'COFFEE', 'MILK'), ('BISCUIT', 'COFFEE', 'SUGER'), ('BISCUIT', 'COFFEE', 'TEA'), ('BISCUIT', 'CORNFLAKES', 'JAM'), ('BISCUIT', 'CORNFLAKES', 'MAGGI'), ('BISCUIT', 'CORNFLAKES', 'MILK'), ('BISCUIT', 'CORNFLAKES', 'SUGER'), ('BISCUIT', 'CORNFLAKES', 'TEA'), ('BISCUIT', 'JAM', 'MAGGI'), ('BISCUIT', 'JAM', 'MILK'), ('BISCUIT', 'JAM', 'SUGER'), ('BISCUIT', 'JAM', 'TEA'), ('BISCUIT', 'MAGGI', 'MILK'), ('BISCUIT', 'MAGGI', 'SUGER'), ('BISCUIT', 'MAGGI', 'TEA'), ('BISCUIT', 'MILK', 'SUGER'), ('BISCUIT', 'MILK', 'TEA'), ('BISCUIT', 'SUGER', 'TEA'), ('BOURNVITA', 'BREAD', 'COCK'), ('BOURNVITA', 'BREAD', 'COFFEE'), ('BOURNVITA', 'BREAD', 'CORNFLAKES'), ('BOURNVITA', 'BREAD', 'JAM'), ('BOURNVITA', 'BREAD', 'MAGGI'), ('BOURNVITA', 'BREAD', 'MILK'), ('BOURNVITA', 'BREAD', 'SUGER'), ('BOURNVITA', 'BREAD', 'TEA'), ('BOURNVITA', 'COCK', 'COFFEE'), ('BOURNVITA', 'COCK', 'CORNFLAKES'), ('BOURNVITA', 'COCK', 'JAM'), ('BOURNVITA', 'COCK', 'MAGGI'), ('BOURNVITA', 'COCK', 'MILK'), ('BOURNVITA', 'COCK', 'SUGER'), ('BOURNVITA', 'COCK', 'TEA'), ('BOURNVITA', 'COFFEE', 'CORNFLAKES'), ('BOURNVITA', 'COFFEE', 'JAM'), ('BOURNVITA', 'COFFEE', 'MAGGI'), ('BOURNVITA', 'COFFEE', 'MILK'), ('BOURNVITA', 'COFFEE', 'SUGER'), ('BOURNVITA', 'COFFEE', 'TEA'), ('BOURNVITA', 'CORNFLAKES', 'JAM'), ('BOURNVITA', 'CORNFLAKES', 'MAGGI'), ('BOURNVITA', 'CORNFLAKES', 'MILK'), ('BOURNVITA', 'CORNFLAKES', 'SUGER'), ('BOURNVITA', 'CORNFLAKES', 'TEA'), ('BOURNVITA', 'JAM', 'MAGGI'), ('BOURNVITA', 'JAM', 'MILK'), ('BOURNVITA', 'JAM', 'SUGER'), ('BOURNVITA', 'JAM', 'TEA'), ('BOURNVITA', 'MAGGI', 'MILK'), ('BOURNVITA', 'MAGGI', 'SUGER'), ('BOURNVITA', 'MAGGI', 'TEA'), ('BOURNVITA', 'MILK', 'SUGER'), ('BOURNVITA', 'MILK', 'TEA'), ('BOURNVITA', 'SUGER', 'TEA'), ('BREAD', 'COCK', 'COFFEE'), ('BREAD', 'COCK', 'CORNFLAKES'), ('BREAD', 'COCK', 'JAM'), ('BREAD', 'COCK', 'MAGGI'), ('BREAD', 'COCK', 'MILK'), ('BREAD', 'COCK', 'SUGER'), ('BREAD', 'COCK', 'TEA'), ('BREAD', 'COFFEE', 'CORNFLAKES'), ('BREAD', 'COFFEE', 'JAM'), ('BREAD', 'COFFEE', 'MAGGI'), ('BREAD', 'COFFEE', 'MILK'), ('BREAD', 'COFFEE', 'SUGER'), ('BREAD', 'COFFEE', 'TEA'), ('BREAD', 'CORNFLAKES', 'JAM'), ('BREAD', 'CORNFLAKES', 'MAGGI'), ('BREAD', 'CORNFLAKES', 'MILK'), ('BREAD', 'CORNFLAKES', 'SUGER'), ('BREAD', 'CORNFLAKES', 'TEA'), ('BREAD', 'JAM', 'MAGGI'), ('BREAD', 'JAM', 'MILK'), ('BREAD', 'JAM', 'SUGER'), ('BREAD', 'JAM', 'TEA'), ('BREAD', 'MAGGI', 'MILK'), ('BREAD', 'MAGGI', 'SUGER'), ('BREAD', 'MAGGI', 'TEA'), ('BREAD', 'MILK', 'SUGER'), ('BREAD', 'MILK', 'TEA'), ('BREAD', 'SUGER', 'TEA'), ('COCK', 'COFFEE', 'CORNFLAKES'), ('COCK', 'COFFEE', 'JAM'), ('COCK', 'COFFEE', 'MAGGI'), ('COCK', 'COFFEE', 'MILK'), ('COCK', 'COFFEE', 'SUGER'), ('COCK', 'COFFEE', 'TEA'), ('COCK', 'CORNFLAKES', 'JAM'), ('COCK', 'CORNFLAKES', 'MAGGI'), ('COCK', 'CORNFLAKES', 'MILK'), ('COCK', 'CORNFLAKES', 'SUGER'), ('COCK', 'CORNFLAKES', 'TEA'), ('COCK', 'JAM', 'MAGGI'), ('COCK', 'JAM', 'MILK'), ('COCK', 'JAM', 'SUGER'), ('COCK', 'JAM', 'TEA'), ('COCK', 'MAGGI', 'MILK'), ('COCK', 'MAGGI', 'SUGER'), ('COCK', 'MAGGI', 'TEA'), ('COCK', 'MILK', 'SUGER'), ('COCK', 'MILK', 'TEA'), ('COCK', 'SUGER', 'TEA'), ('COFFEE', 'CORNFLAKES', 'JAM'), ('COFFEE', 'CORNFLAKES', 'MAGGI'), ('COFFEE', 'CORNFLAKES', 'MILK'), ('COFFEE', 'CORNFLAKES', 'SUGER'), ('COFFEE', 'CORNFLAKES', 'TEA'), ('COFFEE', 'JAM', 'MAGGI'), ('COFFEE', 'JAM', 'MILK'), ('COFFEE', 'JAM', 'SUGER'), ('COFFEE', 'JAM', 'TEA'), ('COFFEE', 'MAGGI', 'MILK'), ('COFFEE', 'MAGGI', 'SUGER'), ('COFFEE', 'MAGGI', 'TEA'), ('COFFEE', 'MILK', 'SUGER'), ('COFFEE', 'MILK', 'TEA'), ('COFFEE', 'SUGER', 'TEA'), ('CORNFLAKES', 'JAM', 'MAGGI'), ('CORNFLAKES', 'JAM', 'MILK'), ('CORNFLAKES', 'JAM', 'SUGER'), ('CORNFLAKES', 'JAM', 'TEA'), ('CORNFLAKES', 'MAGGI', 'MILK'), ('CORNFLAKES', 'MAGGI', 'SUGER'), ('CORNFLAKES', 'MAGGI', 'TEA'), ('CORNFLAKES', 'MILK', 'SUGER'), ('CORNFLAKES', 'MILK', 'TEA'), ('CORNFLAKES', 'SUGER', 'TEA'), ('JAM', 'MAGGI', 'MILK'), ('JAM', 'MAGGI', 'SUGER'), ('JAM', 'MAGGI', 'TEA'), ('JAM', 'MILK', 'SUGER'), ('JAM', 'MILK', 'TEA'), ('JAM', 'SUGER', 'TEA'), ('MAGGI', 'MILK', 'SUGER'), ('MAGGI', 'MILK', 'TEA'), ('MAGGI', 'SUGER', 'TEA'), ('MILK', 'SUGER', 'TEA')]\n",
      "[('BISCUIT', 'BOURNVITA', 'BREAD', 'COCK'), ('BISCUIT', 'BOURNVITA', 'BREAD', 'COFFEE'), ('BISCUIT', 'BOURNVITA', 'BREAD', 'CORNFLAKES'), ('BISCUIT', 'BOURNVITA', 'BREAD', 'JAM'), ('BISCUIT', 'BOURNVITA', 'BREAD', 'MAGGI'), ('BISCUIT', 'BOURNVITA', 'BREAD', 'MILK'), ('BISCUIT', 'BOURNVITA', 'BREAD', 'SUGER'), ('BISCUIT', 'BOURNVITA', 'BREAD', 'TEA'), ('BISCUIT', 'BOURNVITA', 'COCK', 'COFFEE'), ('BISCUIT', 'BOURNVITA', 'COCK', 'CORNFLAKES'), ('BISCUIT', 'BOURNVITA', 'COCK', 'JAM'), ('BISCUIT', 'BOURNVITA', 'COCK', 'MAGGI'), ('BISCUIT', 'BOURNVITA', 'COCK', 'MILK'), ('BISCUIT', 'BOURNVITA', 'COCK', 'SUGER'), ('BISCUIT', 'BOURNVITA', 'COCK', 'TEA'), ('BISCUIT', 'BOURNVITA', 'COFFEE', 'CORNFLAKES'), ('BISCUIT', 'BOURNVITA', 'COFFEE', 'JAM'), ('BISCUIT', 'BOURNVITA', 'COFFEE', 'MAGGI'), ('BISCUIT', 'BOURNVITA', 'COFFEE', 'MILK'), ('BISCUIT', 'BOURNVITA', 'COFFEE', 'SUGER'), ('BISCUIT', 'BOURNVITA', 'COFFEE', 'TEA'), ('BISCUIT', 'BOURNVITA', 'CORNFLAKES', 'JAM'), ('BISCUIT', 'BOURNVITA', 'CORNFLAKES', 'MAGGI'), ('BISCUIT', 'BOURNVITA', 'CORNFLAKES', 'MILK'), ('BISCUIT', 'BOURNVITA', 'CORNFLAKES', 'SUGER'), ('BISCUIT', 'BOURNVITA', 'CORNFLAKES', 'TEA'), ('BISCUIT', 'BOURNVITA', 'JAM', 'MAGGI'), ('BISCUIT', 'BOURNVITA', 'JAM', 'MILK'), ('BISCUIT', 'BOURNVITA', 'JAM', 'SUGER'), ('BISCUIT', 'BOURNVITA', 'JAM', 'TEA'), ('BISCUIT', 'BOURNVITA', 'MAGGI', 'MILK'), ('BISCUIT', 'BOURNVITA', 'MAGGI', 'SUGER'), ('BISCUIT', 'BOURNVITA', 'MAGGI', 'TEA'), ('BISCUIT', 'BOURNVITA', 'MILK', 'SUGER'), ('BISCUIT', 'BOURNVITA', 'MILK', 'TEA'), ('BISCUIT', 'BOURNVITA', 'SUGER', 'TEA'), ('BISCUIT', 'BREAD', 'COCK', 'COFFEE'), ('BISCUIT', 'BREAD', 'COCK', 'CORNFLAKES'), ('BISCUIT', 'BREAD', 'COCK', 'JAM'), ('BISCUIT', 'BREAD', 'COCK', 'MAGGI'), ('BISCUIT', 'BREAD', 'COCK', 'MILK'), ('BISCUIT', 'BREAD', 'COCK', 'SUGER'), ('BISCUIT', 'BREAD', 'COCK', 'TEA'), ('BISCUIT', 'BREAD', 'COFFEE', 'CORNFLAKES'), ('BISCUIT', 'BREAD', 'COFFEE', 'JAM'), ('BISCUIT', 'BREAD', 'COFFEE', 'MAGGI'), ('BISCUIT', 'BREAD', 'COFFEE', 'MILK'), ('BISCUIT', 'BREAD', 'COFFEE', 'SUGER'), ('BISCUIT', 'BREAD', 'COFFEE', 'TEA'), ('BISCUIT', 'BREAD', 'CORNFLAKES', 'JAM'), ('BISCUIT', 'BREAD', 'CORNFLAKES', 'MAGGI'), ('BISCUIT', 'BREAD', 'CORNFLAKES', 'MILK'), ('BISCUIT', 'BREAD', 'CORNFLAKES', 'SUGER'), ('BISCUIT', 'BREAD', 'CORNFLAKES', 'TEA'), ('BISCUIT', 'BREAD', 'JAM', 'MAGGI'), ('BISCUIT', 'BREAD', 'JAM', 'MILK'), ('BISCUIT', 'BREAD', 'JAM', 'SUGER'), ('BISCUIT', 'BREAD', 'JAM', 'TEA'), ('BISCUIT', 'BREAD', 'MAGGI', 'MILK'), ('BISCUIT', 'BREAD', 'MAGGI', 'SUGER'), ('BISCUIT', 'BREAD', 'MAGGI', 'TEA'), ('BISCUIT', 'BREAD', 'MILK', 'SUGER'), ('BISCUIT', 'BREAD', 'MILK', 'TEA'), ('BISCUIT', 'BREAD', 'SUGER', 'TEA'), ('BISCUIT', 'COCK', 'COFFEE', 'CORNFLAKES'), ('BISCUIT', 'COCK', 'COFFEE', 'JAM'), ('BISCUIT', 'COCK', 'COFFEE', 'MAGGI'), ('BISCUIT', 'COCK', 'COFFEE', 'MILK'), ('BISCUIT', 'COCK', 'COFFEE', 'SUGER'), ('BISCUIT', 'COCK', 'COFFEE', 'TEA'), ('BISCUIT', 'COCK', 'CORNFLAKES', 'JAM'), ('BISCUIT', 'COCK', 'CORNFLAKES', 'MAGGI'), ('BISCUIT', 'COCK', 'CORNFLAKES', 'MILK'), ('BISCUIT', 'COCK', 'CORNFLAKES', 'SUGER'), ('BISCUIT', 'COCK', 'CORNFLAKES', 'TEA'), ('BISCUIT', 'COCK', 'JAM', 'MAGGI'), ('BISCUIT', 'COCK', 'JAM', 'MILK'), ('BISCUIT', 'COCK', 'JAM', 'SUGER'), ('BISCUIT', 'COCK', 'JAM', 'TEA'), ('BISCUIT', 'COCK', 'MAGGI', 'MILK'), ('BISCUIT', 'COCK', 'MAGGI', 'SUGER'), ('BISCUIT', 'COCK', 'MAGGI', 'TEA'), ('BISCUIT', 'COCK', 'MILK', 'SUGER'), ('BISCUIT', 'COCK', 'MILK', 'TEA'), ('BISCUIT', 'COCK', 'SUGER', 'TEA'), ('BISCUIT', 'COFFEE', 'CORNFLAKES', 'JAM'), ('BISCUIT', 'COFFEE', 'CORNFLAKES', 'MAGGI'), ('BISCUIT', 'COFFEE', 'CORNFLAKES', 'MILK'), ('BISCUIT', 'COFFEE', 'CORNFLAKES', 'SUGER'), ('BISCUIT', 'COFFEE', 'CORNFLAKES', 'TEA'), ('BISCUIT', 'COFFEE', 'JAM', 'MAGGI'), ('BISCUIT', 'COFFEE', 'JAM', 'MILK'), ('BISCUIT', 'COFFEE', 'JAM', 'SUGER'), ('BISCUIT', 'COFFEE', 'JAM', 'TEA'), ('BISCUIT', 'COFFEE', 'MAGGI', 'MILK'), ('BISCUIT', 'COFFEE', 'MAGGI', 'SUGER'), ('BISCUIT', 'COFFEE', 'MAGGI', 'TEA'), ('BISCUIT', 'COFFEE', 'MILK', 'SUGER'), ('BISCUIT', 'COFFEE', 'MILK', 'TEA'), ('BISCUIT', 'COFFEE', 'SUGER', 'TEA'), ('BISCUIT', 'CORNFLAKES', 'JAM', 'MAGGI'), ('BISCUIT', 'CORNFLAKES', 'JAM', 'MILK'), ('BISCUIT', 'CORNFLAKES', 'JAM', 'SUGER'), ('BISCUIT', 'CORNFLAKES', 'JAM', 'TEA'), ('BISCUIT', 'CORNFLAKES', 'MAGGI', 'MILK'), ('BISCUIT', 'CORNFLAKES', 'MAGGI', 'SUGER'), ('BISCUIT', 'CORNFLAKES', 'MAGGI', 'TEA'), ('BISCUIT', 'CORNFLAKES', 'MILK', 'SUGER'), ('BISCUIT', 'CORNFLAKES', 'MILK', 'TEA'), ('BISCUIT', 'CORNFLAKES', 'SUGER', 'TEA'), ('BISCUIT', 'JAM', 'MAGGI', 'MILK'), ('BISCUIT', 'JAM', 'MAGGI', 'SUGER'), ('BISCUIT', 'JAM', 'MAGGI', 'TEA'), ('BISCUIT', 'JAM', 'MILK', 'SUGER'), ('BISCUIT', 'JAM', 'MILK', 'TEA'), ('BISCUIT', 'JAM', 'SUGER', 'TEA'), ('BISCUIT', 'MAGGI', 'MILK', 'SUGER'), ('BISCUIT', 'MAGGI', 'MILK', 'TEA'), ('BISCUIT', 'MAGGI', 'SUGER', 'TEA'), ('BISCUIT', 'MILK', 'SUGER', 'TEA'), ('BOURNVITA', 'BREAD', 'COCK', 'COFFEE'), ('BOURNVITA', 'BREAD', 'COCK', 'CORNFLAKES'), ('BOURNVITA', 'BREAD', 'COCK', 'JAM'), ('BOURNVITA', 'BREAD', 'COCK', 'MAGGI'), ('BOURNVITA', 'BREAD', 'COCK', 'MILK'), ('BOURNVITA', 'BREAD', 'COCK', 'SUGER'), ('BOURNVITA', 'BREAD', 'COCK', 'TEA'), ('BOURNVITA', 'BREAD', 'COFFEE', 'CORNFLAKES'), ('BOURNVITA', 'BREAD', 'COFFEE', 'JAM'), ('BOURNVITA', 'BREAD', 'COFFEE', 'MAGGI'), ('BOURNVITA', 'BREAD', 'COFFEE', 'MILK'), ('BOURNVITA', 'BREAD', 'COFFEE', 'SUGER'), ('BOURNVITA', 'BREAD', 'COFFEE', 'TEA'), ('BOURNVITA', 'BREAD', 'CORNFLAKES', 'JAM'), ('BOURNVITA', 'BREAD', 'CORNFLAKES', 'MAGGI'), ('BOURNVITA', 'BREAD', 'CORNFLAKES', 'MILK'), ('BOURNVITA', 'BREAD', 'CORNFLAKES', 'SUGER'), ('BOURNVITA', 'BREAD', 'CORNFLAKES', 'TEA'), ('BOURNVITA', 'BREAD', 'JAM', 'MAGGI'), ('BOURNVITA', 'BREAD', 'JAM', 'MILK'), ('BOURNVITA', 'BREAD', 'JAM', 'SUGER'), ('BOURNVITA', 'BREAD', 'JAM', 'TEA'), ('BOURNVITA', 'BREAD', 'MAGGI', 'MILK'), ('BOURNVITA', 'BREAD', 'MAGGI', 'SUGER'), ('BOURNVITA', 'BREAD', 'MAGGI', 'TEA'), ('BOURNVITA', 'BREAD', 'MILK', 'SUGER'), ('BOURNVITA', 'BREAD', 'MILK', 'TEA'), ('BOURNVITA', 'BREAD', 'SUGER', 'TEA'), ('BOURNVITA', 'COCK', 'COFFEE', 'CORNFLAKES'), ('BOURNVITA', 'COCK', 'COFFEE', 'JAM'), ('BOURNVITA', 'COCK', 'COFFEE', 'MAGGI'), ('BOURNVITA', 'COCK', 'COFFEE', 'MILK'), ('BOURNVITA', 'COCK', 'COFFEE', 'SUGER'), ('BOURNVITA', 'COCK', 'COFFEE', 'TEA'), ('BOURNVITA', 'COCK', 'CORNFLAKES', 'JAM'), ('BOURNVITA', 'COCK', 'CORNFLAKES', 'MAGGI'), ('BOURNVITA', 'COCK', 'CORNFLAKES', 'MILK'), ('BOURNVITA', 'COCK', 'CORNFLAKES', 'SUGER'), ('BOURNVITA', 'COCK', 'CORNFLAKES', 'TEA'), ('BOURNVITA', 'COCK', 'JAM', 'MAGGI'), ('BOURNVITA', 'COCK', 'JAM', 'MILK'), ('BOURNVITA', 'COCK', 'JAM', 'SUGER'), ('BOURNVITA', 'COCK', 'JAM', 'TEA'), ('BOURNVITA', 'COCK', 'MAGGI', 'MILK'), ('BOURNVITA', 'COCK', 'MAGGI', 'SUGER'), ('BOURNVITA', 'COCK', 'MAGGI', 'TEA'), ('BOURNVITA', 'COCK', 'MILK', 'SUGER'), ('BOURNVITA', 'COCK', 'MILK', 'TEA'), ('BOURNVITA', 'COCK', 'SUGER', 'TEA'), ('BOURNVITA', 'COFFEE', 'CORNFLAKES', 'JAM'), ('BOURNVITA', 'COFFEE', 'CORNFLAKES', 'MAGGI'), ('BOURNVITA', 'COFFEE', 'CORNFLAKES', 'MILK'), ('BOURNVITA', 'COFFEE', 'CORNFLAKES', 'SUGER'), ('BOURNVITA', 'COFFEE', 'CORNFLAKES', 'TEA'), ('BOURNVITA', 'COFFEE', 'JAM', 'MAGGI'), ('BOURNVITA', 'COFFEE', 'JAM', 'MILK'), ('BOURNVITA', 'COFFEE', 'JAM', 'SUGER'), ('BOURNVITA', 'COFFEE', 'JAM', 'TEA'), ('BOURNVITA', 'COFFEE', 'MAGGI', 'MILK'), ('BOURNVITA', 'COFFEE', 'MAGGI', 'SUGER'), ('BOURNVITA', 'COFFEE', 'MAGGI', 'TEA'), ('BOURNVITA', 'COFFEE', 'MILK', 'SUGER'), ('BOURNVITA', 'COFFEE', 'MILK', 'TEA'), ('BOURNVITA', 'COFFEE', 'SUGER', 'TEA'), ('BOURNVITA', 'CORNFLAKES', 'JAM', 'MAGGI'), ('BOURNVITA', 'CORNFLAKES', 'JAM', 'MILK'), ('BOURNVITA', 'CORNFLAKES', 'JAM', 'SUGER'), ('BOURNVITA', 'CORNFLAKES', 'JAM', 'TEA'), ('BOURNVITA', 'CORNFLAKES', 'MAGGI', 'MILK'), ('BOURNVITA', 'CORNFLAKES', 'MAGGI', 'SUGER'), ('BOURNVITA', 'CORNFLAKES', 'MAGGI', 'TEA'), ('BOURNVITA', 'CORNFLAKES', 'MILK', 'SUGER'), ('BOURNVITA', 'CORNFLAKES', 'MILK', 'TEA'), ('BOURNVITA', 'CORNFLAKES', 'SUGER', 'TEA'), ('BOURNVITA', 'JAM', 'MAGGI', 'MILK'), ('BOURNVITA', 'JAM', 'MAGGI', 'SUGER'), ('BOURNVITA', 'JAM', 'MAGGI', 'TEA'), ('BOURNVITA', 'JAM', 'MILK', 'SUGER'), ('BOURNVITA', 'JAM', 'MILK', 'TEA'), ('BOURNVITA', 'JAM', 'SUGER', 'TEA'), ('BOURNVITA', 'MAGGI', 'MILK', 'SUGER'), ('BOURNVITA', 'MAGGI', 'MILK', 'TEA'), ('BOURNVITA', 'MAGGI', 'SUGER', 'TEA'), ('BOURNVITA', 'MILK', 'SUGER', 'TEA'), ('BREAD', 'COCK', 'COFFEE', 'CORNFLAKES'), ('BREAD', 'COCK', 'COFFEE', 'JAM'), ('BREAD', 'COCK', 'COFFEE', 'MAGGI'), ('BREAD', 'COCK', 'COFFEE', 'MILK'), ('BREAD', 'COCK', 'COFFEE', 'SUGER'), ('BREAD', 'COCK', 'COFFEE', 'TEA'), ('BREAD', 'COCK', 'CORNFLAKES', 'JAM'), ('BREAD', 'COCK', 'CORNFLAKES', 'MAGGI'), ('BREAD', 'COCK', 'CORNFLAKES', 'MILK'), ('BREAD', 'COCK', 'CORNFLAKES', 'SUGER'), ('BREAD', 'COCK', 'CORNFLAKES', 'TEA'), ('BREAD', 'COCK', 'JAM', 'MAGGI'), ('BREAD', 'COCK', 'JAM', 'MILK'), ('BREAD', 'COCK', 'JAM', 'SUGER'), ('BREAD', 'COCK', 'JAM', 'TEA'), ('BREAD', 'COCK', 'MAGGI', 'MILK'), ('BREAD', 'COCK', 'MAGGI', 'SUGER'), ('BREAD', 'COCK', 'MAGGI', 'TEA'), ('BREAD', 'COCK', 'MILK', 'SUGER'), ('BREAD', 'COCK', 'MILK', 'TEA'), ('BREAD', 'COCK', 'SUGER', 'TEA'), ('BREAD', 'COFFEE', 'CORNFLAKES', 'JAM'), ('BREAD', 'COFFEE', 'CORNFLAKES', 'MAGGI'), ('BREAD', 'COFFEE', 'CORNFLAKES', 'MILK'), ('BREAD', 'COFFEE', 'CORNFLAKES', 'SUGER'), ('BREAD', 'COFFEE', 'CORNFLAKES', 'TEA'), ('BREAD', 'COFFEE', 'JAM', 'MAGGI'), ('BREAD', 'COFFEE', 'JAM', 'MILK'), ('BREAD', 'COFFEE', 'JAM', 'SUGER'), ('BREAD', 'COFFEE', 'JAM', 'TEA'), ('BREAD', 'COFFEE', 'MAGGI', 'MILK'), ('BREAD', 'COFFEE', 'MAGGI', 'SUGER'), ('BREAD', 'COFFEE', 'MAGGI', 'TEA'), ('BREAD', 'COFFEE', 'MILK', 'SUGER'), ('BREAD', 'COFFEE', 'MILK', 'TEA'), ('BREAD', 'COFFEE', 'SUGER', 'TEA'), ('BREAD', 'CORNFLAKES', 'JAM', 'MAGGI'), ('BREAD', 'CORNFLAKES', 'JAM', 'MILK'), ('BREAD', 'CORNFLAKES', 'JAM', 'SUGER'), ('BREAD', 'CORNFLAKES', 'JAM', 'TEA'), ('BREAD', 'CORNFLAKES', 'MAGGI', 'MILK'), ('BREAD', 'CORNFLAKES', 'MAGGI', 'SUGER'), ('BREAD', 'CORNFLAKES', 'MAGGI', 'TEA'), ('BREAD', 'CORNFLAKES', 'MILK', 'SUGER'), ('BREAD', 'CORNFLAKES', 'MILK', 'TEA'), ('BREAD', 'CORNFLAKES', 'SUGER', 'TEA'), ('BREAD', 'JAM', 'MAGGI', 'MILK'), ('BREAD', 'JAM', 'MAGGI', 'SUGER'), ('BREAD', 'JAM', 'MAGGI', 'TEA'), ('BREAD', 'JAM', 'MILK', 'SUGER'), ('BREAD', 'JAM', 'MILK', 'TEA'), ('BREAD', 'JAM', 'SUGER', 'TEA'), ('BREAD', 'MAGGI', 'MILK', 'SUGER'), ('BREAD', 'MAGGI', 'MILK', 'TEA'), ('BREAD', 'MAGGI', 'SUGER', 'TEA'), ('BREAD', 'MILK', 'SUGER', 'TEA'), ('COCK', 'COFFEE', 'CORNFLAKES', 'JAM'), ('COCK', 'COFFEE', 'CORNFLAKES', 'MAGGI'), ('COCK', 'COFFEE', 'CORNFLAKES', 'MILK'), ('COCK', 'COFFEE', 'CORNFLAKES', 'SUGER'), ('COCK', 'COFFEE', 'CORNFLAKES', 'TEA'), ('COCK', 'COFFEE', 'JAM', 'MAGGI'), ('COCK', 'COFFEE', 'JAM', 'MILK'), ('COCK', 'COFFEE', 'JAM', 'SUGER'), ('COCK', 'COFFEE', 'JAM', 'TEA'), ('COCK', 'COFFEE', 'MAGGI', 'MILK'), ('COCK', 'COFFEE', 'MAGGI', 'SUGER'), ('COCK', 'COFFEE', 'MAGGI', 'TEA'), ('COCK', 'COFFEE', 'MILK', 'SUGER'), ('COCK', 'COFFEE', 'MILK', 'TEA'), ('COCK', 'COFFEE', 'SUGER', 'TEA'), ('COCK', 'CORNFLAKES', 'JAM', 'MAGGI'), ('COCK', 'CORNFLAKES', 'JAM', 'MILK'), ('COCK', 'CORNFLAKES', 'JAM', 'SUGER'), ('COCK', 'CORNFLAKES', 'JAM', 'TEA'), ('COCK', 'CORNFLAKES', 'MAGGI', 'MILK'), ('COCK', 'CORNFLAKES', 'MAGGI', 'SUGER'), ('COCK', 'CORNFLAKES', 'MAGGI', 'TEA'), ('COCK', 'CORNFLAKES', 'MILK', 'SUGER'), ('COCK', 'CORNFLAKES', 'MILK', 'TEA'), ('COCK', 'CORNFLAKES', 'SUGER', 'TEA'), ('COCK', 'JAM', 'MAGGI', 'MILK'), ('COCK', 'JAM', 'MAGGI', 'SUGER'), ('COCK', 'JAM', 'MAGGI', 'TEA'), ('COCK', 'JAM', 'MILK', 'SUGER'), ('COCK', 'JAM', 'MILK', 'TEA'), ('COCK', 'JAM', 'SUGER', 'TEA'), ('COCK', 'MAGGI', 'MILK', 'SUGER'), ('COCK', 'MAGGI', 'MILK', 'TEA'), ('COCK', 'MAGGI', 'SUGER', 'TEA'), ('COCK', 'MILK', 'SUGER', 'TEA'), ('COFFEE', 'CORNFLAKES', 'JAM', 'MAGGI'), ('COFFEE', 'CORNFLAKES', 'JAM', 'MILK'), ('COFFEE', 'CORNFLAKES', 'JAM', 'SUGER'), ('COFFEE', 'CORNFLAKES', 'JAM', 'TEA'), ('COFFEE', 'CORNFLAKES', 'MAGGI', 'MILK'), ('COFFEE', 'CORNFLAKES', 'MAGGI', 'SUGER'), ('COFFEE', 'CORNFLAKES', 'MAGGI', 'TEA'), ('COFFEE', 'CORNFLAKES', 'MILK', 'SUGER'), ('COFFEE', 'CORNFLAKES', 'MILK', 'TEA'), ('COFFEE', 'CORNFLAKES', 'SUGER', 'TEA'), ('COFFEE', 'JAM', 'MAGGI', 'MILK'), ('COFFEE', 'JAM', 'MAGGI', 'SUGER'), ('COFFEE', 'JAM', 'MAGGI', 'TEA'), ('COFFEE', 'JAM', 'MILK', 'SUGER'), ('COFFEE', 'JAM', 'MILK', 'TEA'), ('COFFEE', 'JAM', 'SUGER', 'TEA'), ('COFFEE', 'MAGGI', 'MILK', 'SUGER'), ('COFFEE', 'MAGGI', 'MILK', 'TEA'), ('COFFEE', 'MAGGI', 'SUGER', 'TEA'), ('COFFEE', 'MILK', 'SUGER', 'TEA'), ('CORNFLAKES', 'JAM', 'MAGGI', 'MILK'), ('CORNFLAKES', 'JAM', 'MAGGI', 'SUGER'), ('CORNFLAKES', 'JAM', 'MAGGI', 'TEA'), ('CORNFLAKES', 'JAM', 'MILK', 'SUGER'), ('CORNFLAKES', 'JAM', 'MILK', 'TEA'), ('CORNFLAKES', 'JAM', 'SUGER', 'TEA'), ('CORNFLAKES', 'MAGGI', 'MILK', 'SUGER'), ('CORNFLAKES', 'MAGGI', 'MILK', 'TEA'), ('CORNFLAKES', 'MAGGI', 'SUGER', 'TEA'), ('CORNFLAKES', 'MILK', 'SUGER', 'TEA'), ('JAM', 'MAGGI', 'MILK', 'SUGER'), ('JAM', 'MAGGI', 'MILK', 'TEA'), ('JAM', 'MAGGI', 'SUGER', 'TEA'), ('JAM', 'MILK', 'SUGER', 'TEA'), ('MAGGI', 'MILK', 'SUGER', 'TEA')]\n",
      "[]\n"
     ]
    },
    {
     "data": {
      "text/plain": [
       "[{('BISCUIT', 'BREAD'): 4,\n",
       "  ('BISCUIT', 'COCK'): 2,\n",
       "  ('BISCUIT', 'COFFEE'): 2,\n",
       "  ('BISCUIT', 'CORNFLAKES'): 3,\n",
       "  ('BISCUIT', 'MAGGI'): 2,\n",
       "  ('BISCUIT', 'MILK'): 2,\n",
       "  ('BISCUIT', 'TEA'): 2,\n",
       "  ('BOURNVITA', 'BREAD'): 3,\n",
       "  ('BOURNVITA', 'SUGER'): 2,\n",
       "  ('BOURNVITA', 'TEA'): 2,\n",
       "  ('BREAD', 'COFFEE'): 3,\n",
       "  ('BREAD', 'JAM'): 2,\n",
       "  ('BREAD', 'MAGGI'): 3,\n",
       "  ('BREAD', 'MILK'): 4,\n",
       "  ('BREAD', 'SUGER'): 4,\n",
       "  ('BREAD', 'TEA'): 4,\n",
       "  ('COCK', 'COFFEE'): 3,\n",
       "  ('COCK', 'CORNFLAKES'): 2,\n",
       "  ('COFFEE', 'CORNFLAKES'): 4,\n",
       "  ('COFFEE', 'SUGER'): 4,\n",
       "  ('CORNFLAKES', 'MILK'): 2,\n",
       "  ('CORNFLAKES', 'TEA'): 2,\n",
       "  ('JAM', 'MAGGI'): 2,\n",
       "  ('MAGGI', 'TEA'): 4},\n",
       " {('BISCUIT', 'BREAD', 'MILK'): 2,\n",
       "  ('BISCUIT', 'COCK', 'COFFEE'): 2,\n",
       "  ('BISCUIT', 'COCK', 'CORNFLAKES'): 2,\n",
       "  ('BISCUIT', 'COFFEE', 'CORNFLAKES'): 2,\n",
       "  ('BISCUIT', 'MAGGI', 'TEA'): 2,\n",
       "  ('BOURNVITA', 'BREAD', 'TEA'): 2,\n",
       "  ('BREAD', 'COFFEE', 'SUGER'): 2,\n",
       "  ('BREAD', 'JAM', 'MAGGI'): 2,\n",
       "  ('BREAD', 'MAGGI', 'TEA'): 2,\n",
       "  ('COCK', 'COFFEE', 'CORNFLAKES'): 2},\n",
       " {('BISCUIT', 'COCK', 'COFFEE', 'CORNFLAKES'): 2}]"
      ]
     },
     "execution_count": 27,
     "metadata": {},
     "output_type": "execute_result"
    }
   ],
   "source": [
    "key_item_length = 2\n",
    "all_candidate = []\n",
    "par_candidate = frequent_items\n",
    "while True:\n",
    "    all_items, candidate = run_apriori(par_candidate, \n",
    "                                       records, \n",
    "                                       minimum_support_count, \n",
    "                                       key_item_length)\n",
    "    par_candidate = candidate\n",
    "    key_item_length += 1\n",
    "    \n",
    "    if len(candidate) < 1:\n",
    "        break\n",
    "        \n",
    "    all_candidate.append(candidate)\n",
    "\n",
    "\n",
    "all_candidate\n",
    "# candidate"
   ]
  },
  {
   "cell_type": "code",
   "execution_count": 22,
   "id": "aadeaa41",
   "metadata": {},
   "outputs": [
    {
     "data": {
      "text/plain": [
       "[[('BISCUIT', 'COCK', 'COFFEE'),\n",
       "  ('BISCUIT', 'COCK', 'CORNFLAKES'),\n",
       "  ('BISCUIT', 'COFFEE', 'CORNFLAKES'),\n",
       "  ('COCK', 'COFFEE', 'CORNFLAKES')]]"
      ]
     },
     "execution_count": 22,
     "metadata": {},
     "output_type": "execute_result"
    }
   ],
   "source": [
    "# Let's consider Item_set which contains three items for the association rule.\n",
    "three_items = all_candidate[2]\n",
    "#assosiation rules item defining here-------\n",
    "rules_item = 3\n",
    "\n",
    "sets = []\n",
    "for iter1 in list(three_items.keys()):\n",
    "    subsets = list(itertools.combinations(iter1, rules_item))\n",
    "    sets.append(subsets)\n",
    "    \n",
    "sets"
   ]
  },
  {
   "cell_type": "code",
   "execution_count": 23,
   "id": "bcaf2459",
   "metadata": {},
   "outputs": [
    {
     "name": "stdout",
     "output_type": "stream",
     "text": [
      "Confidence('BISCUIT', 'COCK', 'COFFEE')->{'CORNFLAKES'} =  100.0\n",
      "Confidence('BISCUIT', 'COCK', 'CORNFLAKES')->{'COFFEE'} =  100.0\n",
      "Confidence('BISCUIT', 'COFFEE', 'CORNFLAKES')->{'COCK'} =  100.0\n",
      "Confidence('COCK', 'COFFEE', 'CORNFLAKES')->{'BISCUIT'} =  100.0\n"
     ]
    }
   ],
   "source": [
    "def support_count(itemset, itemlist):\n",
    "    return itemlist[itemset]\n",
    "\n",
    "# itemlist = {**all_candidate[0], **all_candidate[1], **all_candidate[2], **all_candidate[3]}\n",
    "#merging the different itemset from list of dictionary to single dictionary \n",
    "all_frequent_item_with_sup = {}\n",
    "for item in all_candidate:\n",
    "    all_frequent_item_with_sup.update(item)\n",
    "#     itemlist.append(item)\n",
    "\n",
    "rule_items_key_list = list(three_items.keys())\n",
    "for i in range(0, len(rule_items_key_list)):\n",
    "    for iter1 in sets[i]:\n",
    "        a = iter1\n",
    "        b = set(rule_items_key_list[i]) - set(iter1)\n",
    "        confidence = (support_count(rule_items_key_list[i], all_frequent_item_with_sup)/support_count(iter1, all_frequent_item_with_sup))*100\n",
    "        print(\"Confidence{}->{} = \".format(a,b), confidence)"
   ]
  },
  {
   "cell_type": "code",
   "execution_count": null,
   "id": "b93f2a60",
   "metadata": {},
   "outputs": [],
   "source": []
  }
 ],
 "metadata": {
  "kernelspec": {
   "display_name": "Python 3 (ipykernel)",
   "language": "python",
   "name": "python3"
  },
  "language_info": {
   "codemirror_mode": {
    "name": "ipython",
    "version": 3
   },
   "file_extension": ".py",
   "mimetype": "text/x-python",
   "name": "python",
   "nbconvert_exporter": "python",
   "pygments_lexer": "ipython3",
   "version": "3.8.12"
  }
 },
 "nbformat": 4,
 "nbformat_minor": 5
}
