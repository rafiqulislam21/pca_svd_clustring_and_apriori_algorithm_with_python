{
 "cells": [
  {
   "cell_type": "code",
   "execution_count": 16,
   "id": "61aff48f",
   "metadata": {},
   "outputs": [],
   "source": [
    "import pandas as pd\n",
    "import itertools"
   ]
  },
  {
   "cell_type": "code",
   "execution_count": 17,
   "id": "149815f8",
   "metadata": {},
   "outputs": [
    {
     "data": {
      "text/plain": [
       "[['MILK', 'BREAD', 'BISCUIT', 'nan'],\n",
       " ['BREAD', 'MILK', 'BISCUIT', 'CORNFLAKES'],\n",
       " ['BREAD', 'TEA', 'BOURNVITA', 'nan'],\n",
       " ['JAM', 'MAGGI', 'BREAD', 'MILK'],\n",
       " ['MAGGI', 'TEA', 'BISCUIT', 'nan'],\n",
       " ['BREAD', 'TEA', 'BOURNVITA', 'nan'],\n",
       " ['MAGGI', 'TEA', 'CORNFLAKES', 'nan'],\n",
       " ['MAGGI', 'BREAD', 'TEA', 'BISCUIT'],\n",
       " ['JAM', 'MAGGI', 'BREAD', 'TEA'],\n",
       " ['BREAD', 'MILK', 'nan', 'nan'],\n",
       " ['COFFEE', 'COCK', 'BISCUIT', 'CORNFLAKES'],\n",
       " ['COFFEE', 'COCK', 'BISCUIT', 'CORNFLAKES'],\n",
       " ['COFFEE', 'SUGER', 'BOURNVITA', 'nan'],\n",
       " ['BREAD', 'COFFEE', 'COCK', 'nan'],\n",
       " ['BREAD', 'SUGER', 'BISCUIT', 'nan'],\n",
       " ['COFFEE', 'SUGER', 'CORNFLAKES', 'nan'],\n",
       " ['BREAD', 'SUGER', 'BOURNVITA', 'nan'],\n",
       " ['BREAD', 'COFFEE', 'SUGER', 'nan'],\n",
       " ['BREAD', 'COFFEE', 'SUGER', 'nan'],\n",
       " ['TEA', 'MILK', 'COFFEE', 'CORNFLAKES']]"
      ]
     },
     "execution_count": 17,
     "metadata": {},
     "output_type": "execute_result"
    }
   ],
   "source": [
    "#initilize data form file=====\n",
    "data = pd.read_csv('movies.csv')\n",
    "minimum_support_count = 2\n",
    "records = []\n",
    "for i in range(0, 20):\n",
    "    records.append([str(data.values[i,j]) for j in range(0, 4)])\n",
    "items = sorted([item for sublist in records for item in sublist if item != 'nan'])\n",
    "\n",
    "records\n",
    "# items"
   ]
  },
  {
   "cell_type": "code",
   "execution_count": 18,
   "id": "6c0797a9",
   "metadata": {},
   "outputs": [
    {
     "data": {
      "text/plain": [
       "{'BISCUIT': 7,\n",
       " 'BOURNVITA': 4,\n",
       " 'BREAD': 13,\n",
       " 'COCK': 3,\n",
       " 'COFFEE': 8,\n",
       " 'CORNFLAKES': 6,\n",
       " 'JAM': 2,\n",
       " 'MAGGI': 5,\n",
       " 'MILK': 5,\n",
       " 'SUGER': 6,\n",
       " 'TEA': 7}"
      ]
     },
     "execution_count": 18,
     "metadata": {},
     "output_type": "execute_result"
    }
   ],
   "source": [
    "#step-1\n",
    "def stage_1(items, minimum_support_count):\n",
    "    c1 = {i:items.count(i) for i in items}\n",
    "    l1 = {}\n",
    "    for key, value in c1.items():\n",
    "        if value >= minimum_support_count:\n",
    "            l1[key] = value \n",
    "    \n",
    "    return c1, l1\n",
    "\n",
    "c1, l1 = stage_1(items, minimum_support_count)\n",
    "\n",
    "c1\n",
    "# l1"
   ]
  },
  {
   "cell_type": "code",
   "execution_count": 24,
   "id": "0da2a60f",
   "metadata": {},
   "outputs": [
    {
     "data": {
      "text/plain": [
       "{('BISCUIT', 'BREAD'): 4,\n",
       " ('BISCUIT', 'COCK'): 2,\n",
       " ('BISCUIT', 'COFFEE'): 2,\n",
       " ('BISCUIT', 'CORNFLAKES'): 3,\n",
       " ('BISCUIT', 'MAGGI'): 2,\n",
       " ('BISCUIT', 'MILK'): 2,\n",
       " ('BISCUIT', 'TEA'): 2,\n",
       " ('BOURNVITA', 'BREAD'): 3,\n",
       " ('BOURNVITA', 'SUGER'): 2,\n",
       " ('BOURNVITA', 'TEA'): 2,\n",
       " ('BREAD', 'COFFEE'): 3,\n",
       " ('BREAD', 'JAM'): 2,\n",
       " ('BREAD', 'MAGGI'): 3,\n",
       " ('BREAD', 'MILK'): 4,\n",
       " ('BREAD', 'SUGER'): 4,\n",
       " ('BREAD', 'TEA'): 4,\n",
       " ('COCK', 'COFFEE'): 3,\n",
       " ('COCK', 'CORNFLAKES'): 2,\n",
       " ('COFFEE', 'CORNFLAKES'): 4,\n",
       " ('COFFEE', 'SUGER'): 4,\n",
       " ('CORNFLAKES', 'MILK'): 2,\n",
       " ('CORNFLAKES', 'TEA'): 2,\n",
       " ('JAM', 'MAGGI'): 2,\n",
       " ('MAGGI', 'TEA'): 4}"
      ]
     },
     "execution_count": 24,
     "metadata": {},
     "output_type": "execute_result"
    }
   ],
   "source": [
    "#step-2\n",
    "def sublist(lst1, lst2):\n",
    "    return set(lst1) <= set(lst2)\n",
    "\n",
    "def check_subset_frequency(itemset, l, n):\n",
    "    if n>1:    \n",
    "        subsets = list(itertools.combinations(itemset, n))\n",
    "    else:\n",
    "        subsets = itemset\n",
    "    for iter1 in subsets:\n",
    "        if not iter1 in l:\n",
    "            return False\n",
    "    return True\n",
    "\n",
    "def stage_2(l1, records, minimum_support_count):\n",
    "    l1 = sorted(list(l1.keys()))\n",
    "    L1 = list(itertools.combinations(l1, 2))\n",
    "    c2 = {}\n",
    "    l2 = {}\n",
    "    for iter1 in L1:\n",
    "        count = 0\n",
    "        for iter2 in records:\n",
    "            if sublist(iter1, iter2):\n",
    "                count+=1\n",
    "        c2[iter1] = count\n",
    "    for key, value in c2.items():\n",
    "        if value >= minimum_support_count:\n",
    "            if check_subset_frequency(key, l1, 1):\n",
    "                l2[key] = value \n",
    "    \n",
    "    return c2, l2\n",
    "\n",
    "c2, l2 = stage_2(l1, records, minimum_support_count)\n",
    "\n",
    "# c2\n",
    "l2"
   ]
  },
  {
   "cell_type": "code",
   "execution_count": 28,
   "id": "32287f28",
   "metadata": {},
   "outputs": [
    {
     "data": {
      "text/plain": [
       "{('BISCUIT', 'BREAD', 'MILK'): 2,\n",
       " ('BISCUIT', 'COCK', 'COFFEE'): 2,\n",
       " ('BISCUIT', 'COCK', 'CORNFLAKES'): 2,\n",
       " ('BISCUIT', 'COFFEE', 'CORNFLAKES'): 2,\n",
       " ('BISCUIT', 'MAGGI', 'TEA'): 2,\n",
       " ('BOURNVITA', 'BREAD', 'TEA'): 2,\n",
       " ('BREAD', 'COFFEE', 'SUGER'): 2,\n",
       " ('BREAD', 'JAM', 'MAGGI'): 2,\n",
       " ('BREAD', 'MAGGI', 'TEA'): 2,\n",
       " ('COCK', 'COFFEE', 'CORNFLAKES'): 2}"
      ]
     },
     "execution_count": 28,
     "metadata": {},
     "output_type": "execute_result"
    }
   ],
   "source": [
    "#step-3\n",
    "def stage_3(l2, records, minimum_support_count):\n",
    "    l2 = list(l2.keys())\n",
    "    L2 = sorted(list(set([item for t in l2 for item in t])))\n",
    "    L2 = list(itertools.combinations(L2, 3))\n",
    "    c3 = {}\n",
    "    l3 = {}\n",
    "    for iter1 in L2:\n",
    "        count = 0\n",
    "        for iter2 in records:\n",
    "            if sublist(iter1, iter2):\n",
    "                count+=1\n",
    "        c3[iter1] = count\n",
    "    for key, value in c3.items():\n",
    "        if value >= minimum_support_count:\n",
    "            if check_subset_frequency(key, l2, 2):\n",
    "                l3[key] = value \n",
    "        \n",
    "    return c3, l3\n",
    "c3, l3 = stage_3(l2, records, minimum_support_count)\n",
    "# c3\n",
    "l3"
   ]
  },
  {
   "cell_type": "code",
   "execution_count": 31,
   "id": "bd84faab",
   "metadata": {},
   "outputs": [
    {
     "data": {
      "text/plain": [
       "{('BISCUIT', 'COCK', 'COFFEE', 'CORNFLAKES'): 2}"
      ]
     },
     "execution_count": 31,
     "metadata": {},
     "output_type": "execute_result"
    }
   ],
   "source": [
    "# step-4\n",
    "def stage_4(l3, records, minimum_support_count):\n",
    "    l3 = list(l3.keys())\n",
    "    L3 = sorted(list(set([item for t in l3 for item in t])))\n",
    "    L3 = list(itertools.combinations(L3, 4))\n",
    "    c4 = {}\n",
    "    l4 = {}\n",
    "    for iter1 in L3:\n",
    "        count = 0\n",
    "        for iter2 in records:\n",
    "            if sublist(iter1, iter2):\n",
    "                count+=1\n",
    "        c4[iter1] = count\n",
    "    for key, value in c4.items():\n",
    "        if value >= minimum_support_count:\n",
    "            if check_subset_frequency(key, l3, 3):\n",
    "                l4[key] = value \n",
    "        \n",
    "    return c4, l4\n",
    "c4, l4 = stage_4(l3, records, minimum_support_count)\n",
    "\n",
    "# c4\n",
    "l4"
   ]
  },
  {
   "cell_type": "code",
   "execution_count": 34,
   "id": "1bdda989",
   "metadata": {},
   "outputs": [
    {
     "data": {
      "text/plain": [
       "[[('BISCUIT', 'BREAD'), ('BISCUIT', 'MILK'), ('BREAD', 'MILK')],\n",
       " [('BISCUIT', 'COCK'), ('BISCUIT', 'COFFEE'), ('COCK', 'COFFEE')],\n",
       " [('BISCUIT', 'COCK'), ('BISCUIT', 'CORNFLAKES'), ('COCK', 'CORNFLAKES')],\n",
       " [('BISCUIT', 'COFFEE'), ('BISCUIT', 'CORNFLAKES'), ('COFFEE', 'CORNFLAKES')],\n",
       " [('BISCUIT', 'MAGGI'), ('BISCUIT', 'TEA'), ('MAGGI', 'TEA')],\n",
       " [('BOURNVITA', 'BREAD'), ('BOURNVITA', 'TEA'), ('BREAD', 'TEA')],\n",
       " [('BREAD', 'COFFEE'), ('BREAD', 'SUGER'), ('COFFEE', 'SUGER')],\n",
       " [('BREAD', 'JAM'), ('BREAD', 'MAGGI'), ('JAM', 'MAGGI')],\n",
       " [('BREAD', 'MAGGI'), ('BREAD', 'TEA'), ('MAGGI', 'TEA')],\n",
       " [('COCK', 'COFFEE'), ('COCK', 'CORNFLAKES'), ('COFFEE', 'CORNFLAKES')]]"
      ]
     },
     "execution_count": 34,
     "metadata": {},
     "output_type": "execute_result"
    }
   ],
   "source": [
    "# generate association rule\n",
    "# ''' Rule generation of itemset '''\n",
    "# '''\n",
    "# Confidence:\n",
    "# Confidence(A->B)=Support_count(A∪B)/Support_count(A)\n",
    "# Confidence((COCK, COFFEE)->CORNFLAKES) = Support_count(‘COCK’, ‘COFFEE’, ‘CORNFLAKES’)/Support_count(‘COCK’, ‘COFFEE’)\n",
    "# '''\n",
    "\n",
    "# Let's consider Item_set L3 for the association rule.\n",
    "sets = []\n",
    "for iter1 in list(l3.keys()):\n",
    "    subsets = list(itertools.combinations(iter1, 2))\n",
    "    sets.append(subsets)\n",
    "    \n",
    "sets"
   ]
  },
  {
   "cell_type": "code",
   "execution_count": 38,
   "id": "e692d53c",
   "metadata": {},
   "outputs": [
    {
     "name": "stdout",
     "output_type": "stream",
     "text": [
      "Confidence('BISCUIT', 'BREAD')->{'MILK'} =  50.0\n",
      "Confidence('BISCUIT', 'MILK')->{'BREAD'} =  100.0\n",
      "Confidence('BREAD', 'MILK')->{'BISCUIT'} =  50.0\n",
      "Confidence('BISCUIT', 'COCK')->{'COFFEE'} =  100.0\n",
      "Confidence('BISCUIT', 'COFFEE')->{'COCK'} =  100.0\n",
      "Confidence('COCK', 'COFFEE')->{'BISCUIT'} =  66.66666666666666\n",
      "Confidence('BISCUIT', 'COCK')->{'CORNFLAKES'} =  100.0\n",
      "Confidence('BISCUIT', 'CORNFLAKES')->{'COCK'} =  66.66666666666666\n",
      "Confidence('COCK', 'CORNFLAKES')->{'BISCUIT'} =  100.0\n",
      "Confidence('BISCUIT', 'COFFEE')->{'CORNFLAKES'} =  100.0\n",
      "Confidence('BISCUIT', 'CORNFLAKES')->{'COFFEE'} =  66.66666666666666\n",
      "Confidence('COFFEE', 'CORNFLAKES')->{'BISCUIT'} =  50.0\n",
      "Confidence('BISCUIT', 'MAGGI')->{'TEA'} =  100.0\n",
      "Confidence('BISCUIT', 'TEA')->{'MAGGI'} =  100.0\n",
      "Confidence('MAGGI', 'TEA')->{'BISCUIT'} =  50.0\n",
      "Confidence('BOURNVITA', 'BREAD')->{'TEA'} =  66.66666666666666\n",
      "Confidence('BOURNVITA', 'TEA')->{'BREAD'} =  100.0\n",
      "Confidence('BREAD', 'TEA')->{'BOURNVITA'} =  50.0\n",
      "Confidence('BREAD', 'COFFEE')->{'SUGER'} =  66.66666666666666\n",
      "Confidence('BREAD', 'SUGER')->{'COFFEE'} =  50.0\n",
      "Confidence('COFFEE', 'SUGER')->{'BREAD'} =  50.0\n",
      "Confidence('BREAD', 'JAM')->{'MAGGI'} =  100.0\n",
      "Confidence('BREAD', 'MAGGI')->{'JAM'} =  66.66666666666666\n",
      "Confidence('JAM', 'MAGGI')->{'BREAD'} =  100.0\n",
      "Confidence('BREAD', 'MAGGI')->{'TEA'} =  66.66666666666666\n",
      "Confidence('BREAD', 'TEA')->{'MAGGI'} =  50.0\n",
      "Confidence('MAGGI', 'TEA')->{'BREAD'} =  50.0\n",
      "Confidence('COCK', 'COFFEE')->{'CORNFLAKES'} =  66.66666666666666\n",
      "Confidence('COCK', 'CORNFLAKES')->{'COFFEE'} =  100.0\n",
      "Confidence('COFFEE', 'CORNFLAKES')->{'COCK'} =  50.0\n"
     ]
    }
   ],
   "source": [
    "itemlist = {**l1, **l2, **l3, **l4}\n",
    "list_l3 = list(l3.keys())\n",
    "for i in range(0, len(list_l3)):\n",
    "    for iter1 in sets[i]:\n",
    "        a = iter1\n",
    "        b = set(list_l3[i]) - set(iter1)\n",
    "        confidence = (support_count(list_l3[i], itemlist)/support_count(iter1, itemlist))*100\n",
    "        print(\"Confidence{}->{} = \".format(a,b), confidence)"
   ]
  }
 ],
 "metadata": {
  "kernelspec": {
   "display_name": "Python 3 (ipykernel)",
   "language": "python",
   "name": "python3"
  },
  "language_info": {
   "codemirror_mode": {
    "name": "ipython",
    "version": 3
   },
   "file_extension": ".py",
   "mimetype": "text/x-python",
   "name": "python",
   "nbconvert_exporter": "python",
   "pygments_lexer": "ipython3",
   "version": "3.8.12"
  }
 },
 "nbformat": 4,
 "nbformat_minor": 5
}
