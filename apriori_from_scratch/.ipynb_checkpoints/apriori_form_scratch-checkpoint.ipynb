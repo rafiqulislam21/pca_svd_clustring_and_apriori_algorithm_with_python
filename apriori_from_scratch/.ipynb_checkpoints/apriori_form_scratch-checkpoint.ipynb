{
 "cells": [
  {
   "cell_type": "code",
   "execution_count": 1,
   "id": "61aff48f",
   "metadata": {},
   "outputs": [],
   "source": [
    "import pandas as pd\n",
    "import itertools"
   ]
  },
  {
   "cell_type": "code",
   "execution_count": 6,
   "id": "149815f8",
   "metadata": {},
   "outputs": [
    {
     "data": {
      "text/plain": [
       "[['MILK', 'BREAD', 'BISCUIT', 'nan'],\n",
       " ['BREAD', 'MILK', 'BISCUIT', 'CORNFLAKES'],\n",
       " ['BREAD', 'TEA', 'BOURNVITA', 'nan'],\n",
       " ['JAM', 'MAGGI', 'BREAD', 'MILK'],\n",
       " ['MAGGI', 'TEA', 'BISCUIT', 'nan'],\n",
       " ['BREAD', 'TEA', 'BOURNVITA', 'nan'],\n",
       " ['MAGGI', 'TEA', 'CORNFLAKES', 'nan'],\n",
       " ['MAGGI', 'BREAD', 'TEA', 'BISCUIT'],\n",
       " ['JAM', 'MAGGI', 'BREAD', 'TEA'],\n",
       " ['BREAD', 'MILK', 'nan', 'nan'],\n",
       " ['COFFEE', 'COCK', 'BISCUIT', 'CORNFLAKES'],\n",
       " ['COFFEE', 'COCK', 'BISCUIT', 'CORNFLAKES'],\n",
       " ['COFFEE', 'SUGER', 'BOURNVITA', 'nan'],\n",
       " ['BREAD', 'COFFEE', 'COCK', 'nan'],\n",
       " ['BREAD', 'SUGER', 'BISCUIT', 'nan'],\n",
       " ['COFFEE', 'SUGER', 'CORNFLAKES', 'nan'],\n",
       " ['BREAD', 'SUGER', 'BOURNVITA', 'nan'],\n",
       " ['BREAD', 'COFFEE', 'SUGER', 'nan'],\n",
       " ['BREAD', 'COFFEE', 'SUGER', 'nan'],\n",
       " ['TEA', 'MILK', 'COFFEE', 'CORNFLAKES']]"
      ]
     },
     "execution_count": 6,
     "metadata": {},
     "output_type": "execute_result"
    }
   ],
   "source": [
    "#initilize data form file=====\n",
    "data = pd.read_csv('movies.csv')\n",
    "minimum_support_count = 2\n",
    "records = []\n",
    "for i in range(0, 20):\n",
    "    records.append([str(data.values[i,j]) for j in range(0, 4)])\n",
    "items = sorted([item for sublist in records for item in sublist if item != 'nan'])\n",
    "\n",
    "records\n",
    "# items"
   ]
  },
  {
   "cell_type": "code",
   "execution_count": 7,
   "id": "6c0797a9",
   "metadata": {},
   "outputs": [],
   "source": [
    "#step-1\n",
    "def stage_1(items, minimum_support_count):\n",
    "    c1 = {i:items.count(i) for i in items}\n",
    "    l1 = {}\n",
    "    for key, value in c1.items():\n",
    "        if value >= minimum_support_count:\n",
    "           l1[key] = value \n",
    "    \n",
    "    return c1, l1\n",
    "c1, l1 = stage_1(items, minimum_support_count)"
   ]
  }
 ],
 "metadata": {
  "kernelspec": {
   "display_name": "Python 3 (ipykernel)",
   "language": "python",
   "name": "python3"
  },
  "language_info": {
   "codemirror_mode": {
    "name": "ipython",
    "version": 3
   },
   "file_extension": ".py",
   "mimetype": "text/x-python",
   "name": "python",
   "nbconvert_exporter": "python",
   "pygments_lexer": "ipython3",
   "version": "3.8.12"
  }
 },
 "nbformat": 4,
 "nbformat_minor": 5
}
