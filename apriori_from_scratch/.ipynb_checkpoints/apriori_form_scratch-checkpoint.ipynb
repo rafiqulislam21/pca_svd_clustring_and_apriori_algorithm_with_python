{
 "cells": [
  {
   "cell_type": "code",
   "execution_count": 135,
   "id": "61aff48f",
   "metadata": {},
   "outputs": [],
   "source": [
    "import pandas as pd\n",
    "import itertools"
   ]
  },
  {
   "cell_type": "code",
   "execution_count": 147,
   "id": "149815f8",
   "metadata": {},
   "outputs": [
    {
     "data": {
      "text/plain": [
       "[['MILK', 'BREAD', 'BISCUIT', 'nan'],\n",
       " ['BREAD', 'MILK', 'BISCUIT', 'CORNFLAKES'],\n",
       " ['BREAD', 'TEA', 'BOURNVITA', 'nan'],\n",
       " ['JAM', 'MAGGI', 'BREAD', 'MILK'],\n",
       " ['MAGGI', 'TEA', 'BISCUIT', 'nan'],\n",
       " ['BREAD', 'TEA', 'BOURNVITA', 'nan'],\n",
       " ['MAGGI', 'TEA', 'CORNFLAKES', 'nan'],\n",
       " ['MAGGI', 'BREAD', 'TEA', 'BISCUIT'],\n",
       " ['JAM', 'MAGGI', 'BREAD', 'TEA'],\n",
       " ['BREAD', 'MILK', 'nan', 'nan'],\n",
       " ['COFFEE', 'COCK', 'BISCUIT', 'CORNFLAKES'],\n",
       " ['COFFEE', 'COCK', 'BISCUIT', 'CORNFLAKES'],\n",
       " ['COFFEE', 'SUGER', 'BOURNVITA', 'nan'],\n",
       " ['BREAD', 'COFFEE', 'COCK', 'nan'],\n",
       " ['BREAD', 'SUGER', 'BISCUIT', 'nan'],\n",
       " ['COFFEE', 'SUGER', 'CORNFLAKES', 'nan'],\n",
       " ['BREAD', 'SUGER', 'BOURNVITA', 'nan'],\n",
       " ['BREAD', 'COFFEE', 'SUGER', 'nan'],\n",
       " ['BREAD', 'COFFEE', 'SUGER', 'nan'],\n",
       " ['TEA', 'MILK', 'COFFEE', 'CORNFLAKES']]"
      ]
     },
     "execution_count": 147,
     "metadata": {},
     "output_type": "execute_result"
    }
   ],
   "source": [
    "#initilize data form file=====\n",
    "data = pd.read_csv('movies.csv')\n",
    "records = []\n",
    "for i in range(0, 20):\n",
    "    records.append([str(data.values[i,j]) for j in range(0, 4)])\n",
    "items = sorted([item for sublist in records for item in sublist if item != 'nan'])\n",
    "\n",
    "records\n",
    "# items"
   ]
  },
  {
   "cell_type": "code",
   "execution_count": 148,
   "id": "6c0797a9",
   "metadata": {},
   "outputs": [
    {
     "name": "stdout",
     "output_type": "stream",
     "text": [
      "{'BISCUIT': 7, 'BOURNVITA': 4, 'BREAD': 13, 'COCK': 3, 'COFFEE': 8, 'CORNFLAKES': 6, 'JAM': 2, 'MAGGI': 5, 'MILK': 5, 'SUGER': 6, 'TEA': 7}\n"
     ]
    },
    {
     "data": {
      "text/plain": [
       "{'BISCUIT': 7,\n",
       " 'BOURNVITA': 4,\n",
       " 'BREAD': 13,\n",
       " 'COCK': 3,\n",
       " 'COFFEE': 8,\n",
       " 'CORNFLAKES': 6,\n",
       " 'JAM': 2,\n",
       " 'MAGGI': 5,\n",
       " 'MILK': 5,\n",
       " 'SUGER': 6,\n",
       " 'TEA': 7}"
      ]
     },
     "execution_count": 148,
     "metadata": {},
     "output_type": "execute_result"
    }
   ],
   "source": [
    "minimum_support_count = 2\n",
    "#step-1\n",
    "def sup_count(items, minimum_support_count):\n",
    "    all_items_count = {i:items.count(i) for i in items}\n",
    "    print(all_items_count)\n",
    "    frequent_items = {}\n",
    "    for key, value in all_items_count.items():\n",
    "        if value >= minimum_support_count:\n",
    "            frequent_items[key] = value \n",
    "    \n",
    "    return all_items_count, frequent_items\n",
    "\n",
    "all_items_count, frequent_items = sup_count(items, minimum_support_count)\n",
    "\n",
    "# all_items_count\n",
    "frequent_items\n",
    "#write into txt file later------"
   ]
  },
  {
   "cell_type": "code",
   "execution_count": 156,
   "id": "d0237d77",
   "metadata": {},
   "outputs": [],
   "source": [
    "#step-3\n",
    "def sublist(lst1, lst2):\n",
    "    return set(lst1) <= set(lst2)\n",
    "\n",
    "def check_subset_frequency(itemset, l, n):\n",
    "    if n>1:    \n",
    "        subsets = list(itertools.combinations(itemset, n))\n",
    "    else:\n",
    "        subsets = itemset\n",
    "    for iter1 in subsets:\n",
    "        if not iter1 in l:\n",
    "            return False\n",
    "    return True\n",
    "\n",
    "def stage_3(l2, records, minimum_support_count, counter):\n",
    "    l2 = list(l2.keys())\n",
    "    if counter > 2:\n",
    "        l2 = sorted(l2)\n",
    "        \n",
    "    L2 = []\n",
    "    if counter > 2:\n",
    "        L2 = sorted(list(set([item for t in l2 for item in t])))\n",
    "        L2 = list(itertools.combinations(L2, counter))\n",
    "    else:\n",
    "        L2 = list(itertools.combinations(l2, counter))\n",
    "#     l22 = []\n",
    "#     L22 = []\n",
    "#     if counter > 2:\n",
    "#         l22 = list(l2.keys())\n",
    "#         L22 = sorted(list(set([item for t in l2 for item in t])))\n",
    "#         L22 = list(itertools.combinations(L22, counter))\n",
    "#     else:\n",
    "#         l22 = sorted(list(l2.keys()))\n",
    "#         L22 = list(itertools.combinations(l2, counter))\n",
    "    \n",
    "    c3 = {}\n",
    "    l3 = {}\n",
    "    for iter1 in L2:\n",
    "        count = 0\n",
    "        for iter2 in records:\n",
    "            if sublist(iter1, iter2):\n",
    "                count+=1\n",
    "        c3[iter1] = count\n",
    "    for key, value in c3.items():\n",
    "        if value >= minimum_support_count:\n",
    "            if check_subset_frequency(key, l2, counter-1):\n",
    "                l3[key] = value \n",
    "        \n",
    "    return c3, l3\n",
    "# c3, l3 = stage_3(frequent_items, records, minimum_support_count, 2)\n",
    "# c3\n",
    "# l3"
   ]
  },
  {
   "cell_type": "code",
   "execution_count": 180,
   "id": "1368e810",
   "metadata": {},
   "outputs": [
    {
     "data": {
      "text/plain": [
       "[{('BISCUIT', 'BREAD'): 4,\n",
       "  ('BISCUIT', 'COCK'): 2,\n",
       "  ('BISCUIT', 'COFFEE'): 2,\n",
       "  ('BISCUIT', 'CORNFLAKES'): 3,\n",
       "  ('BISCUIT', 'MAGGI'): 2,\n",
       "  ('BISCUIT', 'MILK'): 2,\n",
       "  ('BISCUIT', 'TEA'): 2,\n",
       "  ('BOURNVITA', 'BREAD'): 3,\n",
       "  ('BOURNVITA', 'SUGER'): 2,\n",
       "  ('BOURNVITA', 'TEA'): 2,\n",
       "  ('BREAD', 'COFFEE'): 3,\n",
       "  ('BREAD', 'JAM'): 2,\n",
       "  ('BREAD', 'MAGGI'): 3,\n",
       "  ('BREAD', 'MILK'): 4,\n",
       "  ('BREAD', 'SUGER'): 4,\n",
       "  ('BREAD', 'TEA'): 4,\n",
       "  ('COCK', 'COFFEE'): 3,\n",
       "  ('COCK', 'CORNFLAKES'): 2,\n",
       "  ('COFFEE', 'CORNFLAKES'): 4,\n",
       "  ('COFFEE', 'SUGER'): 4,\n",
       "  ('CORNFLAKES', 'MILK'): 2,\n",
       "  ('CORNFLAKES', 'TEA'): 2,\n",
       "  ('JAM', 'MAGGI'): 2,\n",
       "  ('MAGGI', 'TEA'): 4},\n",
       " {('BISCUIT', 'BREAD', 'MILK'): 2,\n",
       "  ('BISCUIT', 'COCK', 'COFFEE'): 2,\n",
       "  ('BISCUIT', 'COCK', 'CORNFLAKES'): 2,\n",
       "  ('BISCUIT', 'COFFEE', 'CORNFLAKES'): 2,\n",
       "  ('BISCUIT', 'MAGGI', 'TEA'): 2,\n",
       "  ('BOURNVITA', 'BREAD', 'TEA'): 2,\n",
       "  ('BREAD', 'COFFEE', 'SUGER'): 2,\n",
       "  ('BREAD', 'JAM', 'MAGGI'): 2,\n",
       "  ('BREAD', 'MAGGI', 'TEA'): 2,\n",
       "  ('COCK', 'COFFEE', 'CORNFLAKES'): 2},\n",
       " {('BISCUIT', 'COCK', 'COFFEE', 'CORNFLAKES'): 2},\n",
       " {}]"
      ]
     },
     "execution_count": 180,
     "metadata": {},
     "output_type": "execute_result"
    }
   ],
   "source": [
    "counter = 2\n",
    "all_candidate = []\n",
    "par_candidate = frequent_items\n",
    "# all_items, candidate = stage_3(par_candidate, records, minimum_support_count, counter)\n",
    "while True:\n",
    "    all_items, candidate = stage_3(par_candidate, records, minimum_support_count, counter)\n",
    "    par_candidate = candidate\n",
    "#     print(par_candidate)\n",
    "#     print(counter)\n",
    "#     all_candidate.update(candidate)\n",
    "    all_candidate.append(candidate)\n",
    "    counter += 1\n",
    "    \n",
    "    if len(candidate) == 0:\n",
    "        break\n",
    "\n",
    "\n",
    "all_candidate\n",
    "# candidate"
   ]
  },
  {
   "cell_type": "code",
   "execution_count": 199,
   "id": "aadeaa41",
   "metadata": {},
   "outputs": [
    {
     "data": {
      "text/plain": [
       "[[('BISCUIT', 'COCK', 'COFFEE'),\n",
       "  ('BISCUIT', 'COCK', 'CORNFLAKES'),\n",
       "  ('BISCUIT', 'COFFEE', 'CORNFLAKES'),\n",
       "  ('COCK', 'COFFEE', 'CORNFLAKES')]]"
      ]
     },
     "execution_count": 199,
     "metadata": {},
     "output_type": "execute_result"
    }
   ],
   "source": [
    "# Let's consider Item_set which contains three items for the association rule.\n",
    "three_items = all_candidate[2]\n",
    "#assosiation rules item defining here-------\n",
    "rules_item = 3\n",
    "\n",
    "sets = []\n",
    "for iter1 in list(three_items.keys()):\n",
    "    subsets = list(itertools.combinations(iter1, rules_item))\n",
    "    sets.append(subsets)\n",
    "    \n",
    "sets"
   ]
  },
  {
   "cell_type": "code",
   "execution_count": 200,
   "id": "bcaf2459",
   "metadata": {},
   "outputs": [
    {
     "name": "stdout",
     "output_type": "stream",
     "text": [
      "Confidence('BISCUIT', 'COCK', 'COFFEE')->{'CORNFLAKES'} =  100.0\n",
      "Confidence('BISCUIT', 'COCK', 'CORNFLAKES')->{'COFFEE'} =  100.0\n",
      "Confidence('BISCUIT', 'COFFEE', 'CORNFLAKES')->{'COCK'} =  100.0\n",
      "Confidence('COCK', 'COFFEE', 'CORNFLAKES')->{'BISCUIT'} =  100.0\n"
     ]
    }
   ],
   "source": [
    "def support_count(itemset, itemlist):\n",
    "    return itemlist[itemset]\n",
    "\n",
    "# itemlist = {**all_candidate[0], **all_candidate[1], **all_candidate[2], **all_candidate[3]}\n",
    "itemlist = {}\n",
    "for item in all_candidate:\n",
    "    itemlist.update(item)\n",
    "#     itemlist.append(item)\n",
    "\n",
    "list_l3 = list(three_items.keys())\n",
    "for i in range(0, len(list_l3)):\n",
    "    for iter1 in sets[i]:\n",
    "        a = iter1\n",
    "        b = set(list_l3[i]) - set(iter1)\n",
    "        confidence = (support_count(list_l3[i], itemlist)/support_count(iter1, itemlist))*100\n",
    "        print(\"Confidence{}->{} = \".format(a,b), confidence)"
   ]
  },
  {
   "cell_type": "code",
   "execution_count": null,
   "id": "b93f2a60",
   "metadata": {},
   "outputs": [],
   "source": []
  }
 ],
 "metadata": {
  "kernelspec": {
   "display_name": "Python 3 (ipykernel)",
   "language": "python",
   "name": "python3"
  },
  "language_info": {
   "codemirror_mode": {
    "name": "ipython",
    "version": 3
   },
   "file_extension": ".py",
   "mimetype": "text/x-python",
   "name": "python",
   "nbconvert_exporter": "python",
   "pygments_lexer": "ipython3",
   "version": "3.8.12"
  }
 },
 "nbformat": 4,
 "nbformat_minor": 5
}
