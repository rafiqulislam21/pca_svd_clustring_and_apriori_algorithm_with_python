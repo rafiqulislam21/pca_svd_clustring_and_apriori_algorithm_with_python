{
 "cells": [
  {
   "cell_type": "markdown",
   "id": "c101c524",
   "metadata": {},
   "source": [
    "# Pen & Paper problems"
   ]
  },
  {
   "cell_type": "code",
   "execution_count": 64,
   "id": "b1674bc4",
   "metadata": {},
   "outputs": [],
   "source": [
    "import pandas as pd\n",
    "import numpy as np\n",
    "\n",
    "from sklearn import mixture\n",
    "from sklearn.preprocessing import MinMaxScaler\n",
    "from sklearn.cluster import KMeans\n",
    "from sklearn.cluster import DBSCAN\n",
    "from sklearn.neighbors import NearestNeighbors\n",
    "from sklearn.cluster import AgglomerativeClustering\n",
    "\n",
    "from sklearn.metrics import silhouette_score\n",
    "from sklearn.metrics.cluster import normalized_mutual_info_score\n",
    "\n",
    "# import scipy.cluster.hierarchy as shc\n",
    "\n",
    "import matplotlib.pyplot as plt\n",
    "%matplotlib inline"
   ]
  },
  {
   "cell_type": "code",
   "execution_count": 68,
   "id": "9532372b",
   "metadata": {},
   "outputs": [],
   "source": [
    "#DBSCAN\n",
    "#plot function------------------------------------------------------------------------------------------------------------------\n",
    "def plot_data(df, title):\n",
    "    \n",
    "    #get unique clusters labels from dataframe's cluster column, we stored cluster values when we run the algorithoms\n",
    "    clusters_unique = df.cluster.unique()\n",
    "    clusters_unique.sort()\n",
    "    \n",
    "    #declare a dictionary to dynamically keeps different clusters data\n",
    "    c_dic = {}\n",
    "    for index in clusters_unique:\n",
    "        \n",
    "        #update dictionary with different cluster's data\n",
    "        #sample dictionary data shape\n",
    "        #ex: c_dic = {'c1': data, 'c2': data, ....} \n",
    "        c_dic['c'+str(index)] = df[df.cluster==index]\n",
    "        #plot different cluster's data\n",
    "        plt.scatter(c_dic['c'+str(index)].X, \n",
    "                    c_dic['c'+str(index)].Y,\n",
    "                    alpha=0.7,\n",
    "                    label= \"noise\" if index == -1 else 'c'+str(index))\n",
    "    plt.xlabel('X')\n",
    "    plt.ylabel('Y')\n",
    "    plt.title(title)\n",
    "    plt.grid()\n",
    "    plt.legend(bbox_to_anchor=(1.05, 1), loc=2, borderaxespad=0.0)\n",
    "    plt.show()\n",
    "\n",
    "\n",
    "\n",
    "#calculate score for cluster function-------------------------------------------------------------------------------------------\n",
    "def getScore(df, y_pred):\n",
    "    \n",
    "    true_labels = []\n",
    "    \n",
    "    #reading true labels from dataFrame that already given, \n",
    "    #2 dataset contains true labels in 'label' column and other 2 contains in 'C' column\n",
    "    if 'label' in df.columns:\n",
    "        true_labels = df['label']\n",
    "    else:\n",
    "        true_labels = df['C']\n",
    "    \n",
    "    #get silhouette score\n",
    "    sltt_score = silhouette_score(df[['X','Y']],\n",
    "                                  y_pred)\n",
    "    \n",
    "    #get Normalized mutual info score\n",
    "    nmi_score = normalized_mutual_info_score(true_labels, \n",
    "                                             y_pred)\n",
    "    \n",
    "    #print(\"Silhouette score--------------------->{}\".format(sltt_score))\n",
    "    #print(\"Normalized mutual info score--------->{}\".format(nmi_score))\n",
    "    \n",
    "    return [sltt_score, nmi_score]\n",
    "\n",
    "\n",
    "\n",
    "#DBSCAN function----------------------------------------------------------------------------------------------------------------\n",
    "def db_scan(eps, min_samples, df):\n",
    "    \n",
    "    #finding best epsilon value for dbscan algorithm---------------------------------------------------------------\n",
    "    nneigh = NearestNeighbors(n_neighbors=2)\n",
    "    nbrs = nneigh.fit(df[['X','Y']])\n",
    "    distances, indices = nbrs.kneighbors(df[['X','Y']])\n",
    "    \n",
    "    # Plotting K-distance Graph\n",
    "    distances = np.sort(distances, axis=0)\n",
    "    distances = distances[:,1]\n",
    "    plt.plot(distances)\n",
    "    plt.title('K-distance Graph')\n",
    "    plt.xlabel('Data Points sorted by distance')\n",
    "    plt.ylabel('Epsilon')\n",
    "    plt.show()\n",
    "    \n",
    "    \n",
    "    #apply DBSCAN form sklearn.cluster------------------------------------------------------------------------------\n",
    "    dbscan = DBSCAN(eps=eps, \n",
    "                    min_samples=min_samples,\n",
    "                    metric = \"minkowski\",\n",
    "                    p = 2,\n",
    "                    n_jobs=-1)\n",
    "    y_pred = dbscan.fit_predict(df[['X','Y']])\n",
    "    \n",
    "    #add new column as 'cluster' in data frame with predieted cluster values \n",
    "    df['cluster']=y_pred\n",
    "    \n",
    "    #get silhouette and Normalized mutual info score\n",
    "#     score_list = getScore(df, y_pred)\n",
    "#     score_list.append('DBSCAN')\n",
    "    \n",
    "    #call custom plot function to plot clustered data\n",
    "    plot_data(df, 'DBSCAN Clustering')\n",
    "    print(\"Core point (x,y, index): {}\\n\\n\".format(dbscan.components_))\n",
    "    print(\"------------------------------------------------------------------------\")\n",
    "    \n",
    "#     return score_list\n",
    " \n",
    "\n"
   ]
  },
  {
   "cell_type": "markdown",
   "id": "96553096",
   "metadata": {},
   "source": [
    "# DBSCAN"
   ]
  },
  {
   "cell_type": "code",
   "execution_count": 69,
   "id": "53c16b8e",
   "metadata": {},
   "outputs": [
    {
     "name": "stdout",
     "output_type": "stream",
     "text": [
      "eps = 1.1; minpts = 3\n"
     ]
    },
    {
     "data": {
      "image/png": "[encoded data removed]",
      "text/plain": [
       "<Figure size 432x288 with 1 Axes>"
      ]
     },
     "metadata": {
      "needs_background": "light"
     },
     "output_type": "display_data"
    },
    {
     "data": {
      "image/png": "[encoded data removed]",
      "text/plain": [
       "<Figure size 432x288 with 1 Axes>"
      ]
     },
     "metadata": {
      "needs_background": "light"
     },
     "output_type": "display_data"
    },
    {
     "name": "stdout",
     "output_type": "stream",
     "text": [
      "Core point (x,y, index): [[ 2  3]\n",
      " [ 1  3]\n",
      " [ 2  2]\n",
      " [ 1  2]\n",
      " [ 2 11]\n",
      " [ 9  2]\n",
      " [ 8  2]\n",
      " [10  4]]\n",
      "\n",
      "\n",
      "------------------------------------------------------------------------\n",
      "eps = 2.1; minpts = 4\n"
     ]
    },
    {
     "data": {
      "image/png": "[encoded data removed]",
      "text/plain": [
       "<Figure size 432x288 with 1 Axes>"
      ]
     },
     "metadata": {
      "needs_background": "light"
     },
     "output_type": "display_data"
    },
    {
     "data": {
      "image/png": "[encoded data removed]",
      "text/plain": [
       "<Figure size 432x288 with 1 Axes>"
      ]
     },
     "metadata": {
      "needs_background": "light"
     },
     "output_type": "display_data"
    },
    {
     "name": "stdout",
     "output_type": "stream",
     "text": [
      "Core point (x,y, index): [[ 2  3]\n",
      " [ 1  3]\n",
      " [ 2  2]\n",
      " [ 1  2]\n",
      " [ 3 11]\n",
      " [ 2 10]\n",
      " [ 3  9]\n",
      " [ 4 10]\n",
      " [ 8  3]\n",
      " [ 9  2]\n",
      " [10  3]\n",
      " [ 8  2]\n",
      " [ 9  4]\n",
      " [10  4]\n",
      " [10  5]]\n",
      "\n",
      "\n",
      "------------------------------------------------------------------------\n",
      "eps = 2.1; minpts = 5\n"
     ]
    },
    {
     "data": {
      "image/png": "[encoded data removed]",
      "text/plain": [
       "<Figure size 432x288 with 1 Axes>"
      ]
     },
     "metadata": {
      "needs_background": "light"
     },
     "output_type": "display_data"
    },
    {
     "data": {
      "image/png": "[encoded data removed]",
      "text/plain": [
       "<Figure size 432x288 with 1 Axes>"
      ]
     },
     "metadata": {
      "needs_background": "light"
     },
     "output_type": "display_data"
    },
    {
     "name": "stdout",
     "output_type": "stream",
     "text": [
      "Core point (x,y, index): [[ 3 11]\n",
      " [ 2 10]\n",
      " [ 8  3]\n",
      " [ 9  2]\n",
      " [10  3]\n",
      " [ 9  4]]\n",
      "\n",
      "\n",
      "------------------------------------------------------------------------\n",
      "eps = 4.1; minpts = 4\n"
     ]
    },
    {
     "data": {
      "image/png": "[encoded data removed]",
      "text/plain": [
       "<Figure size 432x288 with 1 Axes>"
      ]
     },
     "metadata": {
      "needs_background": "light"
     },
     "output_type": "display_data"
    },
    {
     "data": {
      "image/png": "[encoded data removed]",
      "text/plain": [
       "<Figure size 432x288 with 1 Axes>"
      ]
     },
     "metadata": {
      "needs_background": "light"
     },
     "output_type": "display_data"
    },
    {
     "name": "stdout",
     "output_type": "stream",
     "text": [
      "Core point (x,y, index): [[ 2  3]\n",
      " [ 1  3]\n",
      " [ 2  2]\n",
      " [ 1  2]\n",
      " [ 3  6]\n",
      " [ 3 11]\n",
      " [ 2 10]\n",
      " [ 2 11]\n",
      " [ 3  9]\n",
      " [ 4 10]\n",
      " [ 7  9]\n",
      " [ 9  1]\n",
      " [ 8  3]\n",
      " [ 9  2]\n",
      " [10  3]\n",
      " [ 8  2]\n",
      " [ 9  4]\n",
      " [10  4]\n",
      " [10  5]]\n",
      "\n",
      "\n",
      "------------------------------------------------------------------------\n",
      "eps = 4.1; minpts = 5\n"
     ]
    },
    {
     "data": {
      "image/png": "[encoded data removed]",
      "text/plain": [
       "<Figure size 432x288 with 1 Axes>"
      ]
     },
     "metadata": {
      "needs_background": "light"
     },
     "output_type": "display_data"
    },
    {
     "data": {
      "image/png": "[encoded data removed]",
      "text/plain": [
       "<Figure size 432x288 with 1 Axes>"
      ]
     },
     "metadata": {
      "needs_background": "light"
     },
     "output_type": "display_data"
    },
    {
     "name": "stdout",
     "output_type": "stream",
     "text": [
      "Core point (x,y, index): [[ 2  3]\n",
      " [ 1  3]\n",
      " [ 3 11]\n",
      " [ 2 10]\n",
      " [ 2 11]\n",
      " [ 3  9]\n",
      " [ 4 10]\n",
      " [ 9  1]\n",
      " [ 8  3]\n",
      " [ 9  2]\n",
      " [10  3]\n",
      " [ 8  2]\n",
      " [ 9  4]\n",
      " [10  4]\n",
      " [10  5]]\n",
      "\n",
      "\n",
      "------------------------------------------------------------------------\n"
     ]
    }
   ],
   "source": [
    "df_lst =  [[2,3],[1,3],[2,2],\n",
    "           [1,2],[3,6],[3,11],\n",
    "           [2,10],[2,11],[3,9],\n",
    "           [4,10],[7,9],[10,10],\n",
    "           [9,1],[8,3],[9,2],\n",
    "           [10,3],[8,2],[9,4],\n",
    "           [10,4],[10,5]]\n",
    "\n",
    "df = pd.DataFrame(np.array(df_lst), columns = [\"X\", \"Y\"])\n",
    "print(\"eps = {}; minpts = {}\".format(1.1, 3))\n",
    "db_scan(1.1, 3, df)\n",
    "print(\"eps = {}; minpts = {}\".format(2.1, 4))\n",
    "db_scan(2.1, 4, df)\n",
    "print(\"eps = {}; minpts = {}\".format(2.1, 5))\n",
    "db_scan(2.1, 5, df)\n",
    "print(\"eps = {}; minpts = {}\".format(4.1, 4))\n",
    "db_scan(4.1, 4, df)\n",
    "print(\"eps = {}; minpts = {}\".format(4.1, 5))\n",
    "db_scan(4.1, 5, df)"
   ]
  },
  {
   "cell_type": "markdown",
   "id": "11167074",
   "metadata": {},
   "source": [
    "# Agglomerative cluster (Q12)"
   ]
  },
  {
   "cell_type": "code",
   "execution_count": 54,
   "id": "e76cb52d",
   "metadata": {},
   "outputs": [
    {
     "data": {
      "image/png": "[encoded data removed]",
      "text/plain": [
       "<Figure size 432x288 with 1 Axes>"
      ]
     },
     "metadata": {
      "needs_background": "light"
     },
     "output_type": "display_data"
    }
   ],
   "source": [
    "# Python program to plot the hierarchical\n",
    "# clustering dendrogram using SciPy\n",
    " \n",
    "# Import the python libraries\n",
    "import numpy as np\n",
    "from scipy.cluster import hierarchy\n",
    "import matplotlib.pyplot as plt\n",
    "from scipy.spatial.distance import squareform\n",
    " \n",
    "# Create an array\n",
    "# labels= [\"A\",\"B\",\"C\",\"D\",\"E\",\"F\"]\n",
    "# x = np.array([(1,1),(20,20),(6,6),(22,26),(15,10),(8,18)])\n",
    "\n",
    "\n",
    "labels= [\"p1\",\"p2\",\"p3\",\"p4\",\"p5\",\"p6\"]\n",
    "x = [[0, 24, 4, 36, 18, 19],\n",
    "     [24, 0, 20, 12, 10, 5],\n",
    "     [4, 20, 0, 32, 14, 15],\n",
    "     [36, 12, 32, 0, 18, 17],\n",
    "     [18, 10, 14, 18, 0, 15],\n",
    "     [19, 5, 15, 17, 15, 0]]\n",
    "dists = squareform(x)\n",
    "\n",
    "# Plot the hierarchical clustering as a dendrogram.\n",
    "# single, average, complete\n",
    "temp = hierarchy.linkage(dists, 'complete')\n",
    "plt.figure()\n",
    " \n",
    "dn = hierarchy.dendrogram(temp, labels=labels)\n",
    "plt.show()\n",
    "\n",
    "leaves = dn['leaves']\n",
    "# print(\"Dengogram clusters leves labels:\")\n",
    "# for lf in leaves:\n",
    "#     print(\"\\t{}\".format(labels[lf]), end=\" \")"
   ]
  },
  {
   "cell_type": "code",
   "execution_count": 114,
   "id": "0b1a4a16",
   "metadata": {},
   "outputs": [
    {
     "name": "stdout",
     "output_type": "stream",
     "text": [
      "Dengogram clusters leaves:\n",
      "0 = [1 1], 2 = [6 6], 1 = [20 20], 3 = [22 26], 4 = [15 10], 5 = [ 8 18], "
     ]
    }
   ],
   "source": [
    "print(\"Dengogram clusters leaves:\")\n",
    "for lf in leaves:\n",
    "    print(\"{} = {},\".format(lf, x[lf]), end=\" \")"
   ]
  },
  {
   "cell_type": "markdown",
   "id": "c9083534",
   "metadata": {},
   "source": [
    "# PCA"
   ]
  },
  {
   "cell_type": "code",
   "execution_count": 1,
   "id": "c83e7c29",
   "metadata": {},
   "outputs": [],
   "source": [
    "import numpy as np\n",
    "from sklearn.preprocessing import StandardScaler\n",
    "from sklearn.decomposition import PCA"
   ]
  },
  {
   "cell_type": "code",
   "execution_count": 2,
   "id": "00f8bf84",
   "metadata": {},
   "outputs": [
    {
     "data": {
      "text/plain": [
       "array([0.90525, 0.09475, 0.     ])"
      ]
     },
     "execution_count": 2,
     "metadata": {},
     "output_type": "execute_result"
    }
   ],
   "source": [
    "#Sklearn PCA part start-----------------------------------------------------------\n",
    "mat_data = np.array([[0,0,4,0],[0,5,0,0],[3,0,8,0]])\n",
    "# mat_data = [[0,0,3],[0,5,0],[4,0,8],[0,0,0]]\n",
    "\n",
    "# std_scaler = StandardScaler()\n",
    "# mat_data_scaled = std_scaler.fit_transform(mat_data)\n",
    "pca = PCA(n_components=3)\n",
    "x_pca = pca.fit_transform(mat_data)\n",
    "var_explained_pca = np.round(pca.explained_variance_ratio_, \n",
    "                             decimals=5)\n",
    "var_explained_pca"
   ]
  },
  {
   "cell_type": "code",
   "execution_count": 3,
   "id": "cc0d234e",
   "metadata": {},
   "outputs": [
    {
     "data": {
      "text/plain": [
       "array([[-0.60208,  1.84805,  0.     ],\n",
       "       [ 5.24791, -0.75533,  0.     ],\n",
       "       [-4.64583, -1.09272,  0.     ]])"
      ]
     },
     "execution_count": 3,
     "metadata": {},
     "output_type": "execute_result"
    }
   ],
   "source": [
    "#principal axes\n",
    "np.round(x_pca, decimals=5)"
   ]
  },
  {
   "cell_type": "code",
   "execution_count": null,
   "id": "b513421b",
   "metadata": {},
   "outputs": [],
   "source": []
  },
  {
   "cell_type": "code",
   "execution_count": 4,
   "id": "8ecceeef",
   "metadata": {},
   "outputs": [
    {
     "data": {
      "text/plain": [
       "array([1., 0.])"
      ]
     },
     "execution_count": 4,
     "metadata": {},
     "output_type": "execute_result"
    }
   ],
   "source": [
    "mat_data = np.array([[1,0],[0,1]])\n",
    "# mat_data = [[0,0,3],[0,5,0],[4,0,8],[0,0,0]]\n",
    "\n",
    "# std_scaler = StandardScaler()\n",
    "# mat_data_scaled = std_scaler.fit_transform(mat_data)\n",
    "pca = PCA()\n",
    "x_pca = pca.fit_transform(mat_data)\n",
    "var_explained_pca = np.round(pca.explained_variance_ratio_, \n",
    "                             decimals=5)\n",
    "var_explained_pca"
   ]
  },
  {
   "cell_type": "code",
   "execution_count": 13,
   "id": "9279ab48",
   "metadata": {},
   "outputs": [
    {
     "data": {
      "text/plain": [
       "array([[-0.70711,  0.     ],\n",
       "       [ 0.70711,  0.     ]])"
      ]
     },
     "execution_count": 13,
     "metadata": {},
     "output_type": "execute_result"
    }
   ],
   "source": [
    "#principal axes/components\n",
    "np.round(x_pca, decimals=5)\n",
    "# x_pca\n",
    "# print(pca.components_)\n",
    "# print(pca.explained_variance_)\n",
    "# print(pca.explained_variance_ratio_)\n",
    "# print(pca.singular_values_)\n",
    "# print(pca.mean_)\n",
    "# print(pca.n_components_)\n",
    "# print(pca.n_features_)\n",
    "# print(pca.n_samples_)\n",
    "# print(pca.noise_variance_)"
   ]
  },
  {
   "cell_type": "markdown",
   "id": "5bb133bf",
   "metadata": {},
   "source": [
    "# Covariance matrix "
   ]
  },
  {
   "cell_type": "code",
   "execution_count": 36,
   "id": "8a863c2f",
   "metadata": {},
   "outputs": [
    {
     "data": {
      "text/plain": [
       "array([[  3.        ,  -2.5       ,   6.        ,   0.        ],\n",
       "       [ -2.5       ,   8.33333333, -10.        ,   0.        ],\n",
       "       [  6.        , -10.        ,  16.        ,   0.        ],\n",
       "       [  0.        ,   0.        ,   0.        ,   0.        ]])"
      ]
     },
     "execution_count": 36,
     "metadata": {},
     "output_type": "execute_result"
    }
   ],
   "source": [
    "import numpy as np\n",
    "\n",
    "x = np.array([[0,0,4,0],[0,5,0,0],[3,0,8,0]]).T\n",
    "np.cov(x)"
   ]
  },
  {
   "cell_type": "markdown",
   "id": "176b1613",
   "metadata": {},
   "source": [
    "# LOF"
   ]
  },
  {
   "cell_type": "code",
   "execution_count": 19,
   "id": "03d2233e",
   "metadata": {},
   "outputs": [],
   "source": [
    "# data preparation\n",
    "import pandas as pd\n",
    "import numpy as np\n",
    "# data visualzation\n",
    "import matplotlib.pyplot as plt\n",
    "import seaborn as sns\n",
    "# outlier/anomaly detection\n",
    "from sklearn.neighbors import LocalOutlierFactor"
   ]
  },
  {
   "cell_type": "code",
   "execution_count": 39,
   "id": "20c7c600",
   "metadata": {},
   "outputs": [
    {
     "data": {
      "text/html": [
       "<div>\n",
       "<style scoped>\n",
       "    .dataframe tbody tr th:only-of-type {\n",
       "        vertical-align: middle;\n",
       "    }\n",
       "\n",
       "    .dataframe tbody tr th {\n",
       "        vertical-align: top;\n",
       "    }\n",
       "\n",
       "    .dataframe thead th {\n",
       "        text-align: right;\n",
       "    }\n",
       "</style>\n",
       "<table border=\"1\" class=\"dataframe\">\n",
       "  <thead>\n",
       "    <tr style=\"text-align: right;\">\n",
       "      <th></th>\n",
       "      <th>x</th>\n",
       "      <th>y</th>\n",
       "    </tr>\n",
       "  </thead>\n",
       "  <tbody>\n",
       "    <tr>\n",
       "      <th>0</th>\n",
       "      <td>2</td>\n",
       "      <td>3</td>\n",
       "    </tr>\n",
       "    <tr>\n",
       "      <th>1</th>\n",
       "      <td>1</td>\n",
       "      <td>3</td>\n",
       "    </tr>\n",
       "    <tr>\n",
       "      <th>2</th>\n",
       "      <td>2</td>\n",
       "      <td>2</td>\n",
       "    </tr>\n",
       "    <tr>\n",
       "      <th>3</th>\n",
       "      <td>1</td>\n",
       "      <td>2</td>\n",
       "    </tr>\n",
       "    <tr>\n",
       "      <th>4</th>\n",
       "      <td>3</td>\n",
       "      <td>6</td>\n",
       "    </tr>\n",
       "  </tbody>\n",
       "</table>\n",
       "</div>"
      ],
      "text/plain": [
       "   x  y\n",
       "0  2  3\n",
       "1  1  3\n",
       "2  2  2\n",
       "3  1  2\n",
       "4  3  6"
      ]
     },
     "execution_count": 39,
     "metadata": {},
     "output_type": "execute_result"
    }
   ],
   "source": [
    "# data\n",
    "dataset = [[2,3],[1,3],[2,2],\n",
    "           [1,2],[3,6],[3,11],\n",
    "           [2,10],[2,11],[3,9],\n",
    "           [4,10],[7,9],[10,10],\n",
    "           [9,1],[8,3],[9,2],\n",
    "           [10,3],[8,2],[9,4],\n",
    "           [10,4],[10,5]]\n",
    "df = pd.DataFrame(np.array(dataset), columns = [\"x\", \"y\"])\n",
    "df.head()"
   ]
  },
  {
   "cell_type": "code",
   "execution_count": 40,
   "id": "44fcd7af",
   "metadata": {
    "scrolled": true
   },
   "outputs": [
    {
     "data": {
      "image/png": "[encoded data removed]",
      "text/plain": [
       "<Figure size 432x288 with 1 Axes>"
      ]
     },
     "metadata": {
      "needs_background": "light"
     },
     "output_type": "display_data"
    }
   ],
   "source": [
    "# plot data points\n",
    "plt.scatter(df[\"x\"], df[\"y\"], color = \"b\", s = 65)\n",
    "plt.grid()"
   ]
  },
  {
   "cell_type": "code",
   "execution_count": 49,
   "id": "48337c67",
   "metadata": {},
   "outputs": [
    {
     "data": {
      "text/plain": [
       "<matplotlib.collections.PathCollection at 0x16b521de9d0>"
      ]
     },
     "execution_count": 49,
     "metadata": {},
     "output_type": "execute_result"
    },
    {
     "data": {
      "image/png": "[encoded data removed]",
      "text/plain": [
       "<Figure size 432x288 with 1 Axes>"
      ]
     },
     "metadata": {
      "needs_background": "light"
     },
     "output_type": "display_data"
    }
   ],
   "source": [
    "# model specification\n",
    "model1 = LocalOutlierFactor(n_neighbors = 2, metric = \"manhattan\", contamination = 0.01)\n",
    "# model fitting\n",
    "y_pred = model1.fit_predict(df)\n",
    "# filter outlier index\n",
    "outlier_index = np.where(y_pred == -1) # negative values are outliers and positives inliers\n",
    "# filter outlier values\n",
    "outlier_values = df.iloc[outlier_index]\n",
    "# plot data\n",
    "plt.scatter(df[\"x\"], df[\"y\"], color = \"b\", s = 65)\n",
    "# plot outlier values\n",
    "plt.scatter(outlier_values[\"x\"], outlier_values[\"y\"], color = \"r\")"
   ]
  },
  {
   "cell_type": "code",
   "execution_count": 50,
   "id": "c808537a",
   "metadata": {},
   "outputs": [
    {
     "name": "stdout",
     "output_type": "stream",
     "text": [
      "[ 1  1  1  1 -1  1  1  1  1  1  1  1  1  1  1  1  1  1  1  1]\n",
      "[-1.         -1.         -1.         -1.         -2.625      -0.875\n",
      " -0.875      -1.33333333 -1.33333333 -1.33333333 -2.         -2.0625\n",
      " -1.         -1.         -1.         -0.875      -1.         -0.875\n",
      " -1.33333333 -0.875     ]\n",
      "2\n"
     ]
    }
   ],
   "source": [
    "# print(outlier_values)\n",
    "print(y_pred)\n",
    "print(model1.negative_outlier_factor_ )\n",
    "print(model1.n_neighbors_ )\n",
    "\n",
    "# print(model1.offset_)\n",
    "# print(model1.effective_metric_ )\n",
    "# print(model1.effective_metric_params_ )\n",
    "# print(model1.n_features_in_ )\n",
    "# print(model1.feature_names_in_ )\n",
    "# print(model1.n_samples_fit_ )"
   ]
  },
  {
   "cell_type": "markdown",
   "id": "f86e7028",
   "metadata": {},
   "source": [
    "# Rand score"
   ]
  },
  {
   "cell_type": "code",
   "execution_count": 6,
   "id": "db1aaf93",
   "metadata": {},
   "outputs": [],
   "source": [
    "from sklearn.metrics.cluster import rand_score"
   ]
  },
  {
   "cell_type": "code",
   "execution_count": 8,
   "id": "3f2fff65",
   "metadata": {},
   "outputs": [
    {
     "name": "stdout",
     "output_type": "stream",
     "text": [
      "22\n",
      "22\n"
     ]
    },
    {
     "data": {
      "text/plain": [
       "0.9307359307359307"
      ]
     },
     "execution_count": 8,
     "metadata": {},
     "output_type": "execute_result"
    }
   ],
   "source": [
    "true_labels = [1,1,1,1,1, 2,2,2,2,2,2,2, 3,3,3,3,3,3,3,3,3,3]\n",
    "pred = [1,1,1,1,1, 2,2,2,2,2,2, 3,3,3,3,3,3,3,3,3,3,3]\n",
    "print(len(true_labels))\n",
    "print(len(pred))\n",
    "\n",
    "rand_score(true_labels, pred)"
   ]
  },
  {
   "cell_type": "code",
   "execution_count": null,
   "id": "adf565f1",
   "metadata": {},
   "outputs": [],
   "source": []
  }
 ],
 "metadata": {
  "kernelspec": {
   "display_name": "Python 3 (ipykernel)",
   "language": "python",
   "name": "python3"
  },
  "language_info": {
   "codemirror_mode": {
    "name": "ipython",
    "version": 3
   },
   "file_extension": ".py",
   "mimetype": "text/x-python",
   "name": "python",
   "nbconvert_exporter": "python",
   "pygments_lexer": "ipython3",
   "version": "3.8.12"
  }
 },
 "nbformat": 4,
 "nbformat_minor": 5
}
