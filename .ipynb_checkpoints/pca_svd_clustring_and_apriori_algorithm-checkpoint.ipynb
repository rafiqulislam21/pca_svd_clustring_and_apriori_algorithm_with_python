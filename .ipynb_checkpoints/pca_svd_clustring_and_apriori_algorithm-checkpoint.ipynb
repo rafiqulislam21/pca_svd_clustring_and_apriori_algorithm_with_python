{
 "cells": [
  {
   "cell_type": "markdown",
   "id": "c101c524",
   "metadata": {},
   "source": [
    "# Lab Assignment 2\n",
    "Name: **Rafiqul Islam** ; \n",
    "student id : **12123971**"
   ]
  },
  {
   "cell_type": "markdown",
   "id": "2990de1f",
   "metadata": {},
   "source": [
    "### Task -1 Dimensionality Reduction, Principal Component Analysis\n",
    "## a)"
   ]
  },
  {
   "cell_type": "code",
   "execution_count": 100,
   "id": "0f968b79",
   "metadata": {},
   "outputs": [],
   "source": [
    "import numpy as np\n",
    "import pandas as pd\n",
    "import seaborn as sb\n",
    "import sklearn\n",
    "\n",
    "import matplotlib.pyplot as plt\n",
    "from sklearn.preprocessing import StandardScaler\n",
    "from sklearn.decomposition import PCA\n",
    "\n",
    "from numpy.linalg import svd "
   ]
  },
  {
   "cell_type": "code",
   "execution_count": 24,
   "id": "03f02492",
   "metadata": {},
   "outputs": [
    {
     "data": {
      "text/html": [
       "<div>\n",
       "<style scoped>\n",
       "    .dataframe tbody tr th:only-of-type {\n",
       "        vertical-align: middle;\n",
       "    }\n",
       "\n",
       "    .dataframe tbody tr th {\n",
       "        vertical-align: top;\n",
       "    }\n",
       "\n",
       "    .dataframe thead th {\n",
       "        text-align: right;\n",
       "    }\n",
       "</style>\n",
       "<table border=\"1\" class=\"dataframe\">\n",
       "  <thead>\n",
       "    <tr style=\"text-align: right;\">\n",
       "      <th></th>\n",
       "      <th>Area</th>\n",
       "      <th>Perimeter</th>\n",
       "      <th>Compactness</th>\n",
       "      <th>Kernel.Length</th>\n",
       "      <th>Kernel.Width</th>\n",
       "      <th>Asymmetry.Coeff</th>\n",
       "      <th>Kernel.Groove</th>\n",
       "      <th>Type</th>\n",
       "    </tr>\n",
       "  </thead>\n",
       "  <tbody>\n",
       "    <tr>\n",
       "      <th>0</th>\n",
       "      <td>15.26</td>\n",
       "      <td>14.84</td>\n",
       "      <td>0.8710</td>\n",
       "      <td>5.763</td>\n",
       "      <td>3.312</td>\n",
       "      <td>2.221</td>\n",
       "      <td>5.220</td>\n",
       "      <td>1</td>\n",
       "    </tr>\n",
       "    <tr>\n",
       "      <th>1</th>\n",
       "      <td>14.88</td>\n",
       "      <td>14.57</td>\n",
       "      <td>0.8811</td>\n",
       "      <td>5.554</td>\n",
       "      <td>3.333</td>\n",
       "      <td>1.018</td>\n",
       "      <td>4.956</td>\n",
       "      <td>1</td>\n",
       "    </tr>\n",
       "    <tr>\n",
       "      <th>2</th>\n",
       "      <td>14.29</td>\n",
       "      <td>14.09</td>\n",
       "      <td>0.9050</td>\n",
       "      <td>5.291</td>\n",
       "      <td>3.337</td>\n",
       "      <td>2.699</td>\n",
       "      <td>4.825</td>\n",
       "      <td>1</td>\n",
       "    </tr>\n",
       "    <tr>\n",
       "      <th>3</th>\n",
       "      <td>13.84</td>\n",
       "      <td>13.94</td>\n",
       "      <td>0.8955</td>\n",
       "      <td>5.324</td>\n",
       "      <td>3.379</td>\n",
       "      <td>2.259</td>\n",
       "      <td>4.805</td>\n",
       "      <td>1</td>\n",
       "    </tr>\n",
       "    <tr>\n",
       "      <th>4</th>\n",
       "      <td>16.14</td>\n",
       "      <td>14.99</td>\n",
       "      <td>0.9034</td>\n",
       "      <td>5.658</td>\n",
       "      <td>3.562</td>\n",
       "      <td>1.355</td>\n",
       "      <td>5.175</td>\n",
       "      <td>1</td>\n",
       "    </tr>\n",
       "  </tbody>\n",
       "</table>\n",
       "</div>"
      ],
      "text/plain": [
       "    Area  Perimeter  Compactness  Kernel.Length  Kernel.Width  \\\n",
       "0  15.26      14.84       0.8710          5.763         3.312   \n",
       "1  14.88      14.57       0.8811          5.554         3.333   \n",
       "2  14.29      14.09       0.9050          5.291         3.337   \n",
       "3  13.84      13.94       0.8955          5.324         3.379   \n",
       "4  16.14      14.99       0.9034          5.658         3.562   \n",
       "\n",
       "   Asymmetry.Coeff  Kernel.Groove  Type  \n",
       "0            2.221          5.220     1  \n",
       "1            1.018          4.956     1  \n",
       "2            2.699          4.825     1  \n",
       "3            2.259          4.805     1  \n",
       "4            1.355          5.175     1  "
      ]
     },
     "execution_count": 24,
     "metadata": {},
     "output_type": "execute_result"
    }
   ],
   "source": [
    "#read data form csv file using pandas\n",
    "df = pd.read_csv (r'seeds.csv')\n",
    "x = df.copy()\n",
    "# list of column names\n",
    "y = df.columns.values.tolist()\n",
    "x.head()"
   ]
  },
  {
   "cell_type": "code",
   "execution_count": 26,
   "id": "917765bd",
   "metadata": {},
   "outputs": [
    {
     "data": {
      "text/plain": [
       "array([[ 0.11716431,  0.18679667,  0.0081443 , ..., -1.00737062,\n",
       "        -0.40826475, -1.22634124],\n",
       "       [-0.01330197, -0.01975993,  0.44234139, ..., -1.82718718,\n",
       "        -0.9454197 , -1.22634124],\n",
       "       [-0.21586804, -0.38697165,  1.46979786, ..., -0.68162472,\n",
       "        -1.21196249, -1.22634124],\n",
       "       ...,\n",
       "       [-0.59010028, -0.71593216,  0.75186803, ...,  3.14554887,\n",
       "        -0.74195192,  1.23872853],\n",
       "       [-1.05703224, -1.06019315, -0.80436312, ..., -0.06897709,\n",
       "        -0.76636805,  1.23872853],\n",
       "       [-0.89909937, -0.96073998, -0.10362921, ...,  1.32055406,\n",
       "        -0.72770917,  1.23872853]])"
      ]
     },
     "execution_count": 26,
     "metadata": {},
     "output_type": "execute_result"
    }
   ],
   "source": [
    "std_scaler = StandardScaler()\n",
    "# scaling data by using standard scaler to use in PCA\n",
    "x_scaled = std_scaler.fit_transform(x)\n",
    "x_scaled"
   ]
  },
  {
   "cell_type": "code",
   "execution_count": 98,
   "id": "a645983e",
   "metadata": {},
   "outputs": [
    {
     "name": "stdout",
     "output_type": "stream",
     "text": [
      "matrix U = \n",
      "(199, 8)\n",
      "matrix S = \n",
      "(8,)\n",
      "matrix V = \n",
      "(8, 8)\n"
     ]
    },
    {
     "data": {
      "text/plain": [
       "array([0.648, 0.214, 0.085, 0.045, 0.006, 0.002, 0.001, 0.   ])"
      ]
     },
     "execution_count": 98,
     "metadata": {},
     "output_type": "execute_result"
    }
   ],
   "source": [
    "#SVD part start-----------------------------------------------------------\n",
    "\n",
    "# manually scalling\n",
    "# x_df_scaled = (x_df - x_df.mean()) / x_df.std()\n",
    "# x_df_scaled.head()\n",
    "\n",
    "U, S, V = svd(x_scaled, full_matrices=False)\n",
    "  \n",
    "print(\"matrix U = \")\n",
    "print(U.shape)\n",
    "print(\"matrix S = \")\n",
    "print(S.shape)\n",
    "print(\"matrix V = \")\n",
    "print(V.shape)\n",
    "\n",
    "var_explained_svd = np.round(S**2/np.sum(S**2), decimals=3)\n",
    "var_explained_svd"
   ]
  },
  {
   "cell_type": "code",
   "execution_count": 99,
   "id": "59d2255b",
   "metadata": {},
   "outputs": [
    {
     "data": {
      "image/png": "[encoded data removed]",
      "text/plain": [
       "<Figure size 432x288 with 1 Axes>"
      ]
     },
     "metadata": {
      "needs_background": "light"
     },
     "output_type": "display_data"
    }
   ],
   "source": [
    "\n",
    "label2 = ['SV' + str(x) for x in range(1, len(var_explained)+1)]\n",
    "plt.bar(x=list(range(1,len(var_explained)+1)), height=var_explained,\n",
    "        tick_label = label2, color=\"green\")\n",
    "\n",
    "plt.xlabel('SVs', fontsize=16)\n",
    "plt.ylabel('Percent Variance Explained', fontsize=16)\n",
    "plt.title('SVD scree plot')\n",
    "plt.show()\n",
    "# plt.savefig('svd_scree_plot.png',dpi=100)\n",
    "#SVD part end-----------------------------------------------------------"
   ]
  },
  {
   "cell_type": "code",
   "execution_count": 92,
   "id": "653f4fd7",
   "metadata": {},
   "outputs": [
    {
     "data": {
      "text/plain": [
       "array([0.648, 0.214, 0.085, 0.045, 0.006, 0.002, 0.001, 0.   ])"
      ]
     },
     "execution_count": 92,
     "metadata": {},
     "output_type": "execute_result"
    }
   ],
   "source": [
    "#PCA part start-----------------------------------------------------------\n",
    "\n",
    "pca = PCA(n_components=8)\n",
    "x_pca = pca.fit_transform(x_scaled)\n",
    "# pca.explained_variance_ratio_\n",
    "# pca.explained_variance_ratio_.sum()\n",
    "var_explained_pca = np.round(pca.explained_variance_ratio_, decimals=3)\n",
    "var_explained_pca"
   ]
  },
  {
   "cell_type": "code",
   "execution_count": 93,
   "id": "e5928985",
   "metadata": {
    "scrolled": true
   },
   "outputs": [
    {
     "data": {
      "image/png": "[encoded data removed]",
      "text/plain": [
       "<Figure size 432x288 with 1 Axes>"
      ]
     },
     "metadata": {
      "needs_background": "light"
     },
     "output_type": "display_data"
    }
   ],
   "source": [
    "\n",
    "label = ['PC' + str(x) for x in range(1, len(var_explained_pca)+1)]\n",
    "plt.bar(x=range(1, len(var_explained_pca)+1), height=var_explained_pca, \n",
    "        tick_label = label, color=\"green\")\n",
    "plt.ylabel('Percent variance explained',  fontsize=16)\n",
    "plt.xlabel('Principal components',  fontsize=16)\n",
    "plt.title('PCA scree plot')\n",
    "plt.show()\n",
    "#PCA part end-----------------------------------------------------------\n"
   ]
  },
  {
   "cell_type": "markdown",
   "id": "36718d6a",
   "metadata": {},
   "source": [
    "## b)"
   ]
  },
  {
   "cell_type": "code",
   "execution_count": 9,
   "id": "1d6bdcac",
   "metadata": {},
   "outputs": [
    {
     "data": {
      "image/png": "[encoded data removed]",
      "text/plain": [
       "<Figure size 648x360 with 1 Axes>"
      ]
     },
     "metadata": {
      "needs_background": "light"
     },
     "output_type": "display_data"
    }
   ],
   "source": [
    "types = df.Type\n",
    "plt.figure(figsize = (9,5))\n",
    "points = plt.scatter(x_pca[:,0], x_pca[:,1], c = types,  alpha=0.9)\n",
    "plt.xlabel('PC1')\n",
    "plt.ylabel('PC2')\n",
    "plt.title(\"Principal Component Analysis (PCA) of Wheat Seeds dataset\")\n",
    "plt.legend(*points.legend_elements(), title=\"Types\")\n",
    "plt.show()\n"
   ]
  },
  {
   "cell_type": "markdown",
   "id": "9f314ce8",
   "metadata": {},
   "source": [
    "## c)"
   ]
  },
  {
   "cell_type": "markdown",
   "id": "115e0905",
   "metadata": {},
   "source": [
    "### The importance of PCA in the “curse of dimensionality” problem:\n",
    "'curse of dimensionality' is a major problem in data mining in large data sets with many potential predictor variables. This expression describe the increasing difficulty in training a model when more predictor variables are added to it. In other words, the error increases with the increase in the number of features. Furthermore, because of high dimentation the algorithms are harder to design.\n",
    "\n",
    "Principal component analysis (PCA) can solve this problem. PCA is a technique for reducing the large dimensionality of datasets to a smaller one that still contain the most important information from the large set. So without lossing much information we get the lower dimensional data, lower dimensional data is make the computarions easy and faster."
   ]
  },
  {
   "cell_type": "code",
   "execution_count": null,
   "id": "dce42f7a",
   "metadata": {},
   "outputs": [],
   "source": []
  },
  {
   "cell_type": "markdown",
   "id": "0f2419eb",
   "metadata": {},
   "source": [
    "### Task -2 Clustering\n",
    "## a)"
   ]
  },
  {
   "cell_type": "code",
   "execution_count": null,
   "id": "b4bdb9e1",
   "metadata": {},
   "outputs": [],
   "source": []
  },
  {
   "cell_type": "markdown",
   "id": "c26f50c6",
   "metadata": {},
   "source": [
    "### Task -3 Apriori Algorithm for Recommender Systems\n",
    "## a)"
   ]
  },
  {
   "cell_type": "code",
   "execution_count": 10,
   "id": "7cf8a6eb",
   "metadata": {},
   "outputs": [],
   "source": [
    "import numpy as np\n",
    "import pandas as pd"
   ]
  },
  {
   "cell_type": "code",
   "execution_count": 23,
   "id": "e89eb840",
   "metadata": {},
   "outputs": [
    {
     "data": {
      "text/plain": [
       "'Incredibles 2;Avengers: Infinity War - Part I;Avengers: Infinity War - Part II;Deadpool 2'"
      ]
     },
     "execution_count": 23,
     "metadata": {},
     "output_type": "execute_result"
    }
   ],
   "source": [
    "movie_df = pd.read_fwf(r'movies.txt', header = None, usecols=[0])\n",
    "movie_df[0][0]"
   ]
  },
  {
   "cell_type": "code",
   "execution_count": null,
   "id": "bb54071a",
   "metadata": {},
   "outputs": [],
   "source": []
  }
 ],
 "metadata": {
  "kernelspec": {
   "display_name": "Python 3 (ipykernel)",
   "language": "python",
   "name": "python3"
  },
  "language_info": {
   "codemirror_mode": {
    "name": "ipython",
    "version": 3
   },
   "file_extension": ".py",
   "mimetype": "text/x-python",
   "name": "python",
   "nbconvert_exporter": "python",
   "pygments_lexer": "ipython3",
   "version": "3.8.12"
  }
 },
 "nbformat": 4,
 "nbformat_minor": 5
}
