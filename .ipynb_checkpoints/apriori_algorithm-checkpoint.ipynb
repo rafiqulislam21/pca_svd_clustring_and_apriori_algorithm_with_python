{
 "cells": [
  {
   "cell_type": "code",
   "execution_count": 1,
   "id": "928c1723",
   "metadata": {},
   "outputs": [],
   "source": [
    "import numpy as np\n",
    "from collections import Counter\n",
    "import json\n",
    "\n",
    "from itertools import combinations\n",
    "from collections import OrderedDict\n",
    "# import sys\n",
    "\n",
    "# from itertools import chain, combinations\n",
    "# from collections import defaultdict\n",
    "# from optparse import OptionParser\n",
    "\n",
    "# from apyori import apriori"
   ]
  },
  {
   "cell_type": "code",
   "execution_count": null,
   "id": "5409da9f",
   "metadata": {},
   "outputs": [],
   "source": []
  }
 ],
 "metadata": {
  "kernelspec": {
   "display_name": "Python 3 (ipykernel)",
   "language": "python",
   "name": "python3"
  },
  "language_info": {
   "codemirror_mode": {
    "name": "ipython",
    "version": 3
   },
   "file_extension": ".py",
   "mimetype": "text/x-python",
   "name": "python",
   "nbconvert_exporter": "python",
   "pygments_lexer": "ipython3",
   "version": "3.8.12"
  }
 },
 "nbformat": 4,
 "nbformat_minor": 5
}
